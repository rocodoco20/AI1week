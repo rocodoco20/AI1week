{
  "cells": [
    {
      "cell_type": "markdown",
      "metadata": {
        "id": "view-in-github",
        "colab_type": "text"
      },
      "source": [
        "<a href=\"https://colab.research.google.com/github/rocodoco20/AI1week/blob/main/cuda_psy_2Hweek.ipynb\" target=\"_parent\"><img src=\"https://colab.research.google.com/assets/colab-badge.svg\" alt=\"Open In Colab\"/></a>"
      ]
    },
    {
      "cell_type": "markdown",
      "source": [
        "# Transformer 실습\n",
        "\n",
        "이번 실습에서는 감정 분석 task에 RNN 대신 Transformer를 구현하여 적용해 볼 것입니다.\n",
        "Library import나 dataloader 생성은 RNN 실습 때와 똑같기 때문에 설명은 넘어가도록 하겠습니다."
      ],
      "metadata": {
        "id": "X60es1cqfOMk"
      }
    },
    {
      "cell_type": "markdown",
      "metadata": {
        "id": "FdhTzHYxyBMY"
      },
      "source": [
        "## [MY CODE] 환경 확인용"
      ]
    },
    {
      "cell_type": "code",
      "execution_count": null,
      "metadata": {
        "colab": {
          "base_uri": "https://localhost:8080/"
        },
        "id": "wwld2CilwINq",
        "outputId": "290561c6-2b46-4e10-b6fd-e8e7a3dd6ecd"
      },
      "outputs": [
        {
          "output_type": "stream",
          "name": "stdout",
          "text": [
            "2.5.1+cu121\n",
            "12.1\n",
            "True\n"
          ]
        }
      ],
      "source": [
        "import torch\n",
        "\n",
        "print(torch.__version__)\n",
        "print(torch.version.cuda)  # PyTorch에서 사용하는 CUDA 버전\n",
        "print(torch.cuda.is_available())  # GPU 사용 가능 여부\n"
      ]
    },
    {
      "cell_type": "code",
      "execution_count": null,
      "metadata": {
        "colab": {
          "base_uri": "https://localhost:8080/"
        },
        "id": "XIsnHuIcNetw",
        "outputId": "11c78eb7-442c-4b3a-b4b8-cb651029d32d"
      },
      "outputs": [
        {
          "output_type": "stream",
          "name": "stdout",
          "text": [
            "Requirement already satisfied: datasets in /usr/local/lib/python3.10/dist-packages (3.2.0)\n",
            "Requirement already satisfied: sacremoses in /usr/local/lib/python3.10/dist-packages (0.1.1)\n",
            "Requirement already satisfied: filelock in /usr/local/lib/python3.10/dist-packages (from datasets) (3.16.1)\n",
            "Requirement already satisfied: numpy>=1.17 in /usr/local/lib/python3.10/dist-packages (from datasets) (1.26.4)\n",
            "Requirement already satisfied: pyarrow>=15.0.0 in /usr/local/lib/python3.10/dist-packages (from datasets) (17.0.0)\n",
            "Requirement already satisfied: dill<0.3.9,>=0.3.0 in /usr/local/lib/python3.10/dist-packages (from datasets) (0.3.8)\n",
            "Requirement already satisfied: pandas in /usr/local/lib/python3.10/dist-packages (from datasets) (2.2.2)\n",
            "Requirement already satisfied: requests>=2.32.2 in /usr/local/lib/python3.10/dist-packages (from datasets) (2.32.3)\n",
            "Requirement already satisfied: tqdm>=4.66.3 in /usr/local/lib/python3.10/dist-packages (from datasets) (4.67.1)\n",
            "Requirement already satisfied: xxhash in /usr/local/lib/python3.10/dist-packages (from datasets) (3.5.0)\n",
            "Requirement already satisfied: multiprocess<0.70.17 in /usr/local/lib/python3.10/dist-packages (from datasets) (0.70.16)\n",
            "Requirement already satisfied: fsspec<=2024.9.0,>=2023.1.0 in /usr/local/lib/python3.10/dist-packages (from fsspec[http]<=2024.9.0,>=2023.1.0->datasets) (2024.9.0)\n",
            "Requirement already satisfied: aiohttp in /usr/local/lib/python3.10/dist-packages (from datasets) (3.11.10)\n",
            "Requirement already satisfied: huggingface-hub>=0.23.0 in /usr/local/lib/python3.10/dist-packages (from datasets) (0.27.0)\n",
            "Requirement already satisfied: packaging in /usr/local/lib/python3.10/dist-packages (from datasets) (24.2)\n",
            "Requirement already satisfied: pyyaml>=5.1 in /usr/local/lib/python3.10/dist-packages (from datasets) (6.0.2)\n",
            "Requirement already satisfied: regex in /usr/local/lib/python3.10/dist-packages (from sacremoses) (2024.11.6)\n",
            "Requirement already satisfied: click in /usr/local/lib/python3.10/dist-packages (from sacremoses) (8.1.7)\n",
            "Requirement already satisfied: joblib in /usr/local/lib/python3.10/dist-packages (from sacremoses) (1.4.2)\n",
            "Requirement already satisfied: aiohappyeyeballs>=2.3.0 in /usr/local/lib/python3.10/dist-packages (from aiohttp->datasets) (2.4.4)\n",
            "Requirement already satisfied: aiosignal>=1.1.2 in /usr/local/lib/python3.10/dist-packages (from aiohttp->datasets) (1.3.2)\n",
            "Requirement already satisfied: async-timeout<6.0,>=4.0 in /usr/local/lib/python3.10/dist-packages (from aiohttp->datasets) (4.0.3)\n",
            "Requirement already satisfied: attrs>=17.3.0 in /usr/local/lib/python3.10/dist-packages (from aiohttp->datasets) (24.3.0)\n",
            "Requirement already satisfied: frozenlist>=1.1.1 in /usr/local/lib/python3.10/dist-packages (from aiohttp->datasets) (1.5.0)\n",
            "Requirement already satisfied: multidict<7.0,>=4.5 in /usr/local/lib/python3.10/dist-packages (from aiohttp->datasets) (6.1.0)\n",
            "Requirement already satisfied: propcache>=0.2.0 in /usr/local/lib/python3.10/dist-packages (from aiohttp->datasets) (0.2.1)\n",
            "Requirement already satisfied: yarl<2.0,>=1.17.0 in /usr/local/lib/python3.10/dist-packages (from aiohttp->datasets) (1.18.3)\n",
            "Requirement already satisfied: typing-extensions>=3.7.4.3 in /usr/local/lib/python3.10/dist-packages (from huggingface-hub>=0.23.0->datasets) (4.12.2)\n",
            "Requirement already satisfied: charset-normalizer<4,>=2 in /usr/local/lib/python3.10/dist-packages (from requests>=2.32.2->datasets) (3.4.0)\n",
            "Requirement already satisfied: idna<4,>=2.5 in /usr/local/lib/python3.10/dist-packages (from requests>=2.32.2->datasets) (3.10)\n",
            "Requirement already satisfied: urllib3<3,>=1.21.1 in /usr/local/lib/python3.10/dist-packages (from requests>=2.32.2->datasets) (2.2.3)\n",
            "Requirement already satisfied: certifi>=2017.4.17 in /usr/local/lib/python3.10/dist-packages (from requests>=2.32.2->datasets) (2024.12.14)\n",
            "Requirement already satisfied: python-dateutil>=2.8.2 in /usr/local/lib/python3.10/dist-packages (from pandas->datasets) (2.8.2)\n",
            "Requirement already satisfied: pytz>=2020.1 in /usr/local/lib/python3.10/dist-packages (from pandas->datasets) (2024.2)\n",
            "Requirement already satisfied: tzdata>=2022.7 in /usr/local/lib/python3.10/dist-packages (from pandas->datasets) (2024.2)\n",
            "Requirement already satisfied: six>=1.5 in /usr/local/lib/python3.10/dist-packages (from python-dateutil>=2.8.2->pandas->datasets) (1.17.0)\n"
          ]
        }
      ],
      "source": [
        "!pip install datasets sacremoses"
      ]
    },
    {
      "cell_type": "markdown",
      "source": [
        "## [MY CODE] 라벨 추출 레이블 직접 사용"
      ],
      "metadata": {
        "id": "3-DV69OOe9sz"
      }
    },
    {
      "cell_type": "code",
      "execution_count": null,
      "metadata": {
        "colab": {
          "base_uri": "https://localhost:8080/"
        },
        "id": "gM5iN5eQN29P",
        "outputId": "1c12aa67-6c0d-44c4-dce2-7a2c28649993"
      },
      "outputs": [
        {
          "output_type": "stream",
          "name": "stderr",
          "text": [
            "Using cache found in /root/.cache/torch/hub/huggingface_pytorch-transformers_main\n"
          ]
        }
      ],
      "source": [
        "import torch\n",
        "from datasets import load_dataset\n",
        "from torch.utils.data import DataLoader\n",
        "from torch.nn.utils.rnn import pad_sequence\n",
        "from transformers import BertTokenizerFast\n",
        "from tokenizers import (\n",
        "    decoders,\n",
        "    models,\n",
        "    normalizers,\n",
        "    pre_tokenizers,\n",
        "    processors,\n",
        "    trainers,\n",
        "    Tokenizer,\n",
        ")\n",
        "\n",
        "\n",
        "ds = load_dataset(\"stanfordnlp/imdb\")\n",
        "tokenizer = torch.hub.load('huggingface/pytorch-transformers', 'tokenizer', 'bert-base-uncased')\n",
        "\n",
        "\n",
        "from torch.nn.utils.rnn import pad_sequence\n",
        "import torch\n",
        "\n",
        "def collate_fn(batch):\n",
        "    max_len = 400\n",
        "    texts, labels = [], []\n",
        "\n",
        "    for row in batch:\n",
        "        # 텍스트와 라벨 추출\n",
        "        labels.append(row['label'])  # 정답 레이블 직접 사용\n",
        "        input_ids = tokenizer(row['text'], truncation=True, max_length=max_len).input_ids\n",
        "        texts.append(torch.LongTensor(input_ids))\n",
        "\n",
        "    # 패딩 처리\n",
        "    texts = pad_sequence(texts, batch_first=True, padding_value=tokenizer.pad_token_id)\n",
        "    labels = torch.FloatTensor(labels)  # Float로 변환 (BCEWithLogitsLoss 호환)\n",
        "\n",
        "    return texts, labels\n",
        "\n",
        "\n",
        "# 데이터 로더 정의\n",
        "train_loader = DataLoader(\n",
        "    ds['train'], batch_size=64, shuffle=True, collate_fn=collate_fn\n",
        ")\n",
        "test_loader = DataLoader(\n",
        "    ds['test'], batch_size=64, shuffle=False, collate_fn=collate_fn\n",
        ")"
      ]
    },
    {
      "cell_type": "markdown",
      "source": [
        "## Multi-head attention(MHA) 구현\n",
        "\n",
        "## [MY CODE]\n",
        "  - Multi를 위한 n_heads 추가\n",
        "  - D가 H로 나눠 떨어지는 값이여야 하는 제약 조건"
      ],
      "metadata": {
        "id": "K2UegFCvfTDj"
      }
    },
    {
      "cell_type": "code",
      "execution_count": null,
      "metadata": {
        "id": "vWNBB8j5rvt0"
      },
      "outputs": [],
      "source": [
        "from torch import nn\n",
        "from math import sqrt\n",
        "\n",
        "\n",
        "class MultiHeadAttention(nn.Module):\n",
        "    def __init__(self, input_dim, d_model, n_heads):\n",
        "        super().__init__()\n",
        "\n",
        "        self.input_dim = input_dim\n",
        "        self.d_model = d_model\n",
        "        self.n_heads = n_heads\n",
        "        self.d_head = d_model // n_heads\n",
        "\n",
        "        assert d_model % n_heads == 0, \"d_model은 n_heads로 나누어 떨어져야 합니다.\"\n",
        "\n",
        "        self.wq = nn.Linear(input_dim, d_model)\n",
        "        self.wk = nn.Linear(input_dim, d_model)\n",
        "        self.wv = nn.Linear(input_dim, d_model)\n",
        "        self.dense = nn.Linear(d_model, d_model)\n",
        "\n",
        "        self.softmax = nn.Softmax(dim=-1)\n",
        "\n",
        "    def forward(self, x, mask=None):\n",
        "        batch_size, seq_len, _ = x.size()\n",
        "\n",
        "        # 1. Query, Key, Value 생성\n",
        "        q = self.wq(x)  # (B, S, D)\n",
        "        k = self.wk(x)  # (B, S, D)\n",
        "        v = self.wv(x)  # (B, S, D)\n",
        "\n",
        "        # 2. Reshape: (B, S, D) -> (B, S, H, D')\n",
        "        q = q.view(batch_size, seq_len, self.n_heads, self.d_head)\n",
        "        k = k.view(batch_size, seq_len, self.n_heads, self.d_head)\n",
        "        v = v.view(batch_size, seq_len, self.n_heads, self.d_head)\n",
        "\n",
        "        # 3. Transpose: (B, S, H, D') -> (B, H, S, D')\n",
        "        q = q.transpose(1, 2)  # (B, H, S, D')\n",
        "        k = k.transpose(1, 2)  # (B, H, S, D')\n",
        "        v = v.transpose(1, 2)  # (B, H, S, D')\n",
        "\n",
        "        # 4. Scaled Dot-Product Attention 계산\n",
        "        score = torch.matmul(q, k.transpose(-2, -1)) / sqrt(self.d_head)\n",
        "\n",
        "        if mask is not None:\n",
        "            mask = mask.unsqueeze(1)  # (B, 1, 1, S)\n",
        "            score = score.masked_fill(mask == 0, -1e9)\n",
        "\n",
        "        attention = torch.matmul(self.softmax(score), v)\n",
        "\n",
        "        # 5. Transpose 및 Reshape: (B, H, S, D') -> (B, S, D)\n",
        "        attention = attention.transpose(1, 2).contiguous()\n",
        "        attention = attention.view(batch_size, seq_len, self.d_model)\n",
        "\n",
        "        # 6. Output\n",
        "        output = self.dense(attention)\n",
        "\n",
        "        return output"
      ]
    },
    {
      "cell_type": "markdown",
      "source": [
        "## Transformer 레이어 수정"
      ],
      "metadata": {
        "id": "pzIukfvtsjA5"
      }
    },
    {
      "cell_type": "code",
      "execution_count": null,
      "metadata": {
        "id": "QlyS4yForxOm"
      },
      "outputs": [],
      "source": [
        "class TransformerLayer(nn.Module):\n",
        "    def __init__(self, input_dim, d_model, dff, n_heads, dropout_rate=0.1):\n",
        "        super().__init__()\n",
        "\n",
        "        self.input_dim = input_dim\n",
        "        self.d_model = d_model\n",
        "        self.dff = dff\n",
        "        self.n_heads = n_heads\n",
        "\n",
        "        # Multi-Head Attention 모듈\n",
        "        self.mha = MultiHeadAttention(input_dim, d_model, n_heads)\n",
        "\n",
        "        self.ffn = nn.Sequential(\n",
        "            nn.Linear(d_model, dff),\n",
        "            nn.ReLU(),\n",
        "            nn.Linear(dff, d_model)\n",
        "        )\n",
        "\n",
        "        # Dropout\n",
        "        self.dropout1 = nn.Dropout(dropout_rate)\n",
        "        self.dropout2 = nn.Dropout(dropout_rate)\n",
        "\n",
        "        # Layer Normalization\n",
        "        self.ln1 = nn.LayerNorm(d_model)\n",
        "        self.ln2 = nn.LayerNorm(d_model)\n",
        "\n",
        "    def forward(self, x, mask=None):\n",
        "        # x, mask is given\n",
        "        # Multi-Head Attention\n",
        "        x1 = self.mha(x, mask)\n",
        "        x1 = self.dropout1(x1)\n",
        "        x1 = self.ln1(x1 + x)\n",
        "\n",
        "        # Feed Forward Network\n",
        "        x2 = self.ffn(x1)\n",
        "        x2 = self.dropout2(x2)\n",
        "        x2 = self.ln2(x2 + x1)\n",
        "\n",
        "        return x2\n"
      ]
    },
    {
      "cell_type": "markdown",
      "source": [
        "보시다시피 self-attention의 구현이 어렵지, Transformer layer 하나 구현하는 것은 수업 때 다룬 그림과 크게 구분되지 않는다는 점을 알 수 있습니다."
      ],
      "metadata": {
        "id": "RGG-k7J1faPy"
      }
    },
    {
      "cell_type": "markdown",
      "source": [
        "## Positional encoding\n",
        "\n",
        "이번에는 positional encoding을 구현합니다. Positional encoding의 식은 다음과 같습니다:\n",
        "$$\n",
        "\\begin{align*} PE_{pos, 2i} &= \\sin\\left( \\frac{pos}{10000^{2i/D}} \\right), \\\\ PE_{pos, 2i+1} &= \\cos\\left( \\frac{pos}{10000^{2i/D}} \\right).\\end{align*}\n",
        "$$\n",
        "\n",
        "이를 Numpy로 구현하여 PyTorch tensor로 변환한 모습은 다음과 같습니다:"
      ],
      "metadata": {
        "id": "l1L69u2YfawN"
      }
    },
    {
      "cell_type": "code",
      "execution_count": null,
      "metadata": {
        "colab": {
          "base_uri": "https://localhost:8080/"
        },
        "id": "b8oC4O66rzms",
        "outputId": "02b967f9-bb89-4751-b132-70be608cdad1"
      },
      "outputs": [
        {
          "output_type": "stream",
          "name": "stdout",
          "text": [
            "torch.Size([1, 400, 256])\n"
          ]
        }
      ],
      "source": [
        "import numpy as np\n",
        "\n",
        "\n",
        "def get_angles(pos, i, d_model):\n",
        "    angle_rates = 1 / np.power(10000, (2 * (i // 2)) / np.float32(d_model))\n",
        "    return pos * angle_rates\n",
        "\n",
        "def positional_encoding(position, d_model):\n",
        "    angle_rads = get_angles(np.arange(position)[:, None], np.arange(d_model)[None, :], d_model)\n",
        "    angle_rads[:, 0::2] = np.sin(angle_rads[:, 0::2])\n",
        "    angle_rads[:, 1::2] = np.cos(angle_rads[:, 1::2])\n",
        "    pos_encoding = angle_rads[None, ...]\n",
        "\n",
        "    return torch.FloatTensor(pos_encoding)\n",
        "\n",
        "\n",
        "max_len = 400\n",
        "print(positional_encoding(max_len, 256).shape)"
      ]
    },
    {
      "cell_type": "markdown",
      "source": [
        "Positional encoding은 `angle_rads`를 구현하는 과정에서 모두 구현이 되었습니다. 여기서 `angle_rads`의 shape은 (S, D)입니다.\n",
        "우리는 일반적으로 batch로 주어지는 shape이 (B, S, D)인 tensor를 다루기 때문에 마지막에 None을 활용하여 shape을 (1, S, D)로 바꿔주게됩니다.\n",
        "\n",
        "위에서 구현한 `TransformerLayer`와 positional encoding을 모두 합친 모습은 다음과 같습니다:"
      ],
      "metadata": {
        "id": "5-YEBWf1feEC"
      }
    },
    {
      "cell_type": "code",
      "execution_count": null,
      "metadata": {
        "id": "izEog6Yor1Lv"
      },
      "outputs": [],
      "source": [
        "class TextClassifier(nn.Module):\n",
        "  def __init__(self, vocab_size, d_model, n_layers, dff, n_heads):\n",
        "    super().__init__()\n",
        "\n",
        "    self.vocab_size = vocab_size\n",
        "    self.d_model = d_model\n",
        "    self.n_layers = n_layers\n",
        "    self.dff = dff\n",
        "    self.n_heads = n_heads\n",
        "\n",
        "    self.embedding = nn.Embedding(vocab_size, d_model)\n",
        "    self.pos_encoding = nn.parameter.Parameter(positional_encoding(max_len, d_model), requires_grad=False)\n",
        "    self.layers = nn.ModuleList([TransformerLayer(d_model, d_model, dff, n_heads) for _ in range(n_layers)])\n",
        "    self.classification = nn.Linear(d_model, 1)\n",
        "\n",
        "  def forward(self, x):\n",
        "    mask = (x == tokenizer.pad_token_id)\n",
        "    mask = mask[:, None, :]\n",
        "    seq_len = x.shape[1]\n",
        "\n",
        "    x = self.embedding(x)\n",
        "    x = x * sqrt(self.d_model)\n",
        "    x = x + self.pos_encoding[:, :seq_len]\n",
        "\n",
        "    for layer in self.layers:\n",
        "      x = layer(x, mask)\n",
        "\n",
        "    x = x[:, 0]\n",
        "    x = self.classification(x)\n",
        "\n",
        "    return x\n",
        "\n",
        "\n",
        "model = TextClassifier(len(tokenizer), 32, 2, 32, 4)"
      ]
    },
    {
      "cell_type": "markdown",
      "source": [
        "기존과 다른 점들은 다음과 같습니다:\n",
        "1. `nn.ModuleList`를 사용하여 여러 layer의 구현을 쉽게 하였습니다.\n",
        "2. Embedding, positional encoding, transformer layer를 거치고 난 후 마지막 label을 예측하기 위해 사용한 값은 `x[:, 0]`입니다. 기존의 RNN에서는 padding token을 제외한 마지막 token에 해당하는 representation을 사용한 것과 다릅니다. 이렇게 사용할 수 있는 이유는 attention 과정을 보시면 첫 번째 token에 대한 representation은 이후의 모든 token의 영향을 받습니다. 즉, 첫 번째 token 또한 전체 문장을 대변하는 의미를 가지고 있다고 할 수 있습니다. 그래서 일반적으로 Transformer를 text 분류에 사용할 때는 이와 같은 방식으로 구현됩니다."
      ],
      "metadata": {
        "id": "yuTOlcUtffyH"
      }
    },
    {
      "cell_type": "markdown",
      "source": [
        "## 학습\n",
        "\n",
        "학습하는 코드는 기존 실습들과 동일하기 때문에 마지막 결과만 살펴보도록 하겠습니다."
      ],
      "metadata": {
        "id": "6NddpwNifiYh"
      }
    },
    {
      "cell_type": "code",
      "execution_count": null,
      "metadata": {
        "id": "XeeiMRhtr3TG"
      },
      "outputs": [],
      "source": [
        "from torch.optim import Adam\n",
        "\n",
        "lr = 0.001\n",
        "model = model.to('cuda')\n",
        "loss_fn = nn.BCEWithLogitsLoss() # 손실 함수 정의\n",
        "\n",
        "optimizer = Adam(model.parameters(), lr=lr)"
      ]
    },
    {
      "cell_type": "code",
      "execution_count": null,
      "metadata": {
        "id": "dYLgj1kSr5CL"
      },
      "outputs": [],
      "source": [
        "import numpy as np\n",
        "import matplotlib.pyplot as plt\n",
        "\n",
        "\n",
        "def accuracy(model, dataloader):\n",
        "  cnt = 0\n",
        "  acc = 0\n",
        "\n",
        "  for data in dataloader:\n",
        "    inputs, labels = data\n",
        "    inputs, labels = inputs.to('cuda'), labels.to('cuda')\n",
        "\n",
        "    preds = model(inputs)\n",
        "    # preds = torch.argmax(preds, dim=-1)\n",
        "    preds = (preds > 0).long()[..., 0]\n",
        "\n",
        "    cnt += labels.shape[0]\n",
        "    acc += (labels == preds).sum().item()\n",
        "\n",
        "  return acc / cnt"
      ]
    },
    {
      "cell_type": "markdown",
      "source": [
        "## [MY CODE] RuntimeError Traceback (most recent call last)                          \n",
        "  -  마지막 차원을 제거하여 크기 일치"
      ],
      "metadata": {
        "id": "RRYT0pOIti79"
      }
    },
    {
      "cell_type": "code",
      "execution_count": null,
      "metadata": {
        "colab": {
          "base_uri": "https://localhost:8080/"
        },
        "id": "06h3C_46r6W5",
        "outputId": "e99994b1-9d1d-40ba-a32e-0ad98ab06f58"
      },
      "outputs": [
        {
          "output_type": "stream",
          "name": "stdout",
          "text": [
            "Epoch   0 | Train Loss: 219.77783370018005\n",
            "=========> Train acc: 0.629 | Test acc: 0.575\n",
            "Epoch   1 | Train Loss: 216.04689505696297\n",
            "=========> Train acc: 0.632 | Test acc: 0.579\n",
            "Epoch   2 | Train Loss: 215.2198326587677\n",
            "=========> Train acc: 0.629 | Test acc: 0.575\n",
            "Epoch   3 | Train Loss: 213.99061232805252\n",
            "=========> Train acc: 0.636 | Test acc: 0.580\n",
            "Epoch   4 | Train Loss: 213.0579795539379\n",
            "=========> Train acc: 0.635 | Test acc: 0.574\n",
            "Epoch   5 | Train Loss: 213.15889436006546\n",
            "=========> Train acc: 0.636 | Test acc: 0.579\n",
            "Epoch   6 | Train Loss: 212.48677390813828\n",
            "=========> Train acc: 0.637 | Test acc: 0.579\n",
            "Epoch   7 | Train Loss: 212.37547972798347\n",
            "=========> Train acc: 0.635 | Test acc: 0.575\n",
            "Epoch   8 | Train Loss: 211.96174636483192\n",
            "=========> Train acc: 0.636 | Test acc: 0.579\n",
            "Epoch   9 | Train Loss: 211.37914860248566\n",
            "=========> Train acc: 0.632 | Test acc: 0.572\n",
            "Epoch  10 | Train Loss: 211.97833678126335\n",
            "=========> Train acc: 0.612 | Test acc: 0.562\n",
            "Epoch  11 | Train Loss: 211.78073158860207\n",
            "=========> Train acc: 0.636 | Test acc: 0.576\n",
            "Epoch  12 | Train Loss: 211.152925491333\n",
            "=========> Train acc: 0.638 | Test acc: 0.578\n",
            "Epoch  13 | Train Loss: 211.1557736992836\n",
            "=========> Train acc: 0.638 | Test acc: 0.577\n",
            "Epoch  14 | Train Loss: 211.13315218687057\n",
            "=========> Train acc: 0.636 | Test acc: 0.579\n",
            "Epoch  15 | Train Loss: 210.8798966407776\n",
            "=========> Train acc: 0.631 | Test acc: 0.572\n",
            "Epoch  16 | Train Loss: 210.91199159622192\n",
            "=========> Train acc: 0.636 | Test acc: 0.577\n",
            "Epoch  17 | Train Loss: 210.95469066500664\n",
            "=========> Train acc: 0.638 | Test acc: 0.579\n",
            "Epoch  18 | Train Loss: 210.9516200721264\n",
            "=========> Train acc: 0.636 | Test acc: 0.578\n",
            "Epoch  19 | Train Loss: 211.78280013799667\n",
            "=========> Train acc: 0.638 | Test acc: 0.578\n",
            "Epoch  20 | Train Loss: 210.74624213576317\n",
            "=========> Train acc: 0.636 | Test acc: 0.579\n",
            "Epoch  21 | Train Loss: 210.74028578400612\n",
            "=========> Train acc: 0.636 | Test acc: 0.578\n",
            "Epoch  22 | Train Loss: 210.35723742842674\n",
            "=========> Train acc: 0.636 | Test acc: 0.577\n",
            "Epoch  23 | Train Loss: 210.01146575808525\n",
            "=========> Train acc: 0.636 | Test acc: 0.576\n",
            "Epoch  24 | Train Loss: 209.5934136211872\n",
            "=========> Train acc: 0.637 | Test acc: 0.575\n",
            "Epoch  25 | Train Loss: 209.33229997754097\n",
            "=========> Train acc: 0.636 | Test acc: 0.575\n",
            "Epoch  26 | Train Loss: 211.92358574271202\n",
            "=========> Train acc: 0.638 | Test acc: 0.577\n",
            "Epoch  27 | Train Loss: 209.50777158141136\n",
            "=========> Train acc: 0.632 | Test acc: 0.568\n",
            "Epoch  28 | Train Loss: 209.13745203614235\n",
            "=========> Train acc: 0.635 | Test acc: 0.573\n",
            "Epoch  29 | Train Loss: 209.25893610715866\n",
            "=========> Train acc: 0.637 | Test acc: 0.577\n",
            "Epoch  30 | Train Loss: 209.00609916448593\n",
            "=========> Train acc: 0.632 | Test acc: 0.568\n",
            "Epoch  31 | Train Loss: 209.00200372934341\n",
            "=========> Train acc: 0.636 | Test acc: 0.577\n",
            "Epoch  32 | Train Loss: 209.03765881061554\n",
            "=========> Train acc: 0.632 | Test acc: 0.570\n",
            "Epoch  33 | Train Loss: 208.80326426029205\n",
            "=========> Train acc: 0.637 | Test acc: 0.577\n",
            "Epoch  34 | Train Loss: 208.65733420848846\n",
            "=========> Train acc: 0.637 | Test acc: 0.576\n",
            "Epoch  35 | Train Loss: 208.76595854759216\n",
            "=========> Train acc: 0.638 | Test acc: 0.579\n",
            "Epoch  36 | Train Loss: 210.86963108181953\n",
            "=========> Train acc: 0.636 | Test acc: 0.576\n",
            "Epoch  37 | Train Loss: 208.44158229231834\n",
            "=========> Train acc: 0.639 | Test acc: 0.580\n",
            "Epoch  38 | Train Loss: 208.2714298069477\n",
            "=========> Train acc: 0.639 | Test acc: 0.579\n",
            "Epoch  39 | Train Loss: 207.89435777068138\n",
            "=========> Train acc: 0.632 | Test acc: 0.568\n",
            "Epoch  40 | Train Loss: 207.92427811026573\n",
            "=========> Train acc: 0.636 | Test acc: 0.572\n",
            "Epoch  41 | Train Loss: 207.81990832090378\n",
            "=========> Train acc: 0.632 | Test acc: 0.566\n",
            "Epoch  42 | Train Loss: 207.5887171626091\n",
            "=========> Train acc: 0.639 | Test acc: 0.578\n",
            "Epoch  43 | Train Loss: 208.40064468979836\n",
            "=========> Train acc: 0.640 | Test acc: 0.577\n",
            "Epoch  44 | Train Loss: 207.67949643731117\n",
            "=========> Train acc: 0.639 | Test acc: 0.575\n",
            "Epoch  45 | Train Loss: 207.65821793675423\n",
            "=========> Train acc: 0.637 | Test acc: 0.574\n",
            "Epoch  46 | Train Loss: 207.46070542931557\n",
            "=========> Train acc: 0.638 | Test acc: 0.574\n",
            "Epoch  47 | Train Loss: 207.85052639245987\n",
            "=========> Train acc: 0.640 | Test acc: 0.576\n",
            "Epoch  48 | Train Loss: 208.0610517859459\n",
            "=========> Train acc: 0.632 | Test acc: 0.566\n",
            "Epoch  49 | Train Loss: 207.5304968059063\n",
            "=========> Train acc: 0.638 | Test acc: 0.572\n"
          ]
        }
      ],
      "source": [
        "train_accs, test_accs = [], []  # 학습 정확도 리스트 # 테스트 정확도 리스트\n",
        "\n",
        "n_epochs = 50\n",
        "\n",
        "for epoch in range(n_epochs):\n",
        "    total_loss = 0.\n",
        "    model.train()\n",
        "    for data in train_loader:\n",
        "        model.zero_grad()\n",
        "        inputs, labels = data\n",
        "        inputs, labels = inputs.to('cuda'), labels.to('cuda').float()\n",
        "\n",
        "        preds = model(inputs)[..., 0]\n",
        "        loss = loss_fn(preds, labels)\n",
        "        loss.backward()\n",
        "\n",
        "        optimizer.step()\n",
        "\n",
        "        total_loss += loss.item()\n",
        "\n",
        "    print(f\"Epoch {epoch:3d} | Train Loss: {total_loss}\")\n",
        "\n",
        "    with torch.no_grad():\n",
        "      model.eval()\n",
        "\n",
        "      # 훈련 데이터와 테스트 데이터에 대한 정확도 계산\n",
        "      train_acc = accuracy(model, train_loader)\n",
        "      test_acc = accuracy(model, test_loader)\n",
        "\n",
        "      # 정확도를 리스트에 추가\n",
        "      train_accs.append(train_acc)\n",
        "      test_accs.append(test_acc)\n",
        "\n",
        "      # 각 에포크마다 출력\n",
        "      print(f\"=========> Train acc: {train_acc:.3f} | Test acc: {test_acc:.3f}\")"
      ]
    },
    {
      "cell_type": "markdown",
      "source": [
        "학습이 안정적으로 진행되며 RNN보다 빨리 수렴하는 것을 확인할 수 있습니다.\n",
        "하지만 test 정확도가 RNN보다 낮은 것을 보았을 때, overfitting에 취약하다는 것을 알 수 있습니다."
      ],
      "metadata": {
        "id": "O6Bq4m7HfnYk"
      }
    },
    {
      "cell_type": "markdown",
      "metadata": {
        "id": "6SNYIOCY1_XK"
      },
      "source": [
        "## [LOG] 결과 출력"
      ]
    },
    {
      "cell_type": "markdown",
      "source": [
        "## 5-layer 4-head Transformer\n",
        "    - 기존 실습에서 사용한 hyper-parameter들과 위에서 구현한 Transformer를 가지고 5-layer 4-head Transformer의 성능 결과를 report해주시면 됩니다."
      ],
      "metadata": {
        "id": "RzYtAJITpg8u"
      }
    },
    {
      "cell_type": "code",
      "execution_count": null,
      "metadata": {
        "colab": {
          "base_uri": "https://localhost:8080/",
          "height": 449
        },
        "id": "hraoyhjNxbJP",
        "outputId": "4c87a26b-b77a-4adf-aa06-3a9ea283788a"
      },
      "outputs": [
        {
          "output_type": "display_data",
          "data": {
            "text/plain": [
              "<Figure size 640x480 with 1 Axes>"
            ],
            "image/png": "[encoded data removed]"
          },
          "metadata": {}
        }
      ],
      "source": [
        "import numpy as np\n",
        "import matplotlib.pyplot as plt\n",
        "\n",
        "def plot_acc(train_acc, test_acc, label1='train', label2='test'):\n",
        "    x = np.arange(len(train_acc))\n",
        "    plt.plot(x, train_acc, label=label1)\n",
        "    plt.plot(x, test_acc, label=label2)\n",
        "    plt.xlabel('Epoch')\n",
        "    plt.ylabel('Accuracy')\n",
        "    plt.legend()\n",
        "    plt.show()\n",
        "\n",
        "# 학습이 끝난 후, train_accs와 test_accs를 plot_acc 함수에 전달\n",
        "plot_acc(train_accs, test_accs)"
      ]
    }
  ],
  "metadata": {
    "accelerator": "GPU",
    "colab": {
      "gpuType": "T4",
      "provenance": [],
      "include_colab_link": true
    },
    "kernelspec": {
      "display_name": "Python 3",
      "name": "python3"
    },
    "language_info": {
      "name": "python"
    }
  },
  "nbformat": 4,
  "nbformat_minor": 0
}