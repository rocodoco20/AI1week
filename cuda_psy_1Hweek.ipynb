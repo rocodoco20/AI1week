{
  "nbformat": 4,
  "nbformat_minor": 0,
  "metadata": {
    "colab": {
      "provenance": [],
      "gpuType": "T4",
      "authorship_tag": "ABX9TyPppX3XYjBypoG5+wINMuGp",
      "include_colab_link": true
    },
    "kernelspec": {
      "name": "python3",
      "display_name": "Python 3"
    },
    "language_info": {
      "name": "python"
    },
    "accelerator": "GPU"
  },
  "cells": [
    {
      "cell_type": "markdown",
      "metadata": {
        "id": "view-in-github",
        "colab_type": "text"
      },
      "source": [
        "<a href=\"https://colab.research.google.com/github/rocodoco20/AI1week/blob/main/cuda_psy_1Hweek.ipynb\" target=\"_parent\"><img src=\"https://colab.research.google.com/assets/colab-badge.svg\" alt=\"Open In Colab\"/></a>"
      ]
    },
    {
      "cell_type": "code",
      "execution_count": 1,
      "metadata": {
        "id": "boRVlOdWgXJr"
      },
      "outputs": [],
      "source": [
        "import torch\n",
        "import torchvision\n",
        "import torchvision.transforms as transforms"
      ]
    },
    {
      "cell_type": "code",
      "source": [
        "transform = transforms.ToTensor()\n",
        "\n",
        "trainset = torchvision.datasets.CIFAR10(\n",
        "    root='./data',\n",
        "    train=True,\n",
        "    download=True,\n",
        "    transform=transform\n",
        ")"
      ],
      "metadata": {
        "colab": {
          "base_uri": "https://localhost:8080/"
        },
        "id": "rW361k2jggCB",
        "outputId": "e655c0dd-0abd-4294-bb04-20a3b2bb78bd"
      },
      "execution_count": 2,
      "outputs": [
        {
          "output_type": "stream",
          "name": "stdout",
          "text": [
            "Downloading https://www.cs.toronto.edu/~kriz/cifar-10-python.tar.gz to ./data/cifar-10-python.tar.gz\n"
          ]
        },
        {
          "output_type": "stream",
          "name": "stderr",
          "text": [
            "100%|██████████| 170M/170M [00:05<00:00, 30.5MB/s]\n"
          ]
        },
        {
          "output_type": "stream",
          "name": "stdout",
          "text": [
            "Extracting ./data/cifar-10-python.tar.gz to ./data\n"
          ]
        }
      ]
    },
    {
      "cell_type": "markdown",
      "source": [
        "##[MY CODE] Test data 준비하기 train False"
      ],
      "metadata": {
        "id": "Two1FdTGyF3F"
      }
    },
    {
      "cell_type": "code",
      "source": [
        "from matplotlib import pyplot as plt\n",
        "\n",
        "\n",
        "print(len(trainset))\n",
        "print(trainset[0][0].shape, trainset[0][1])\n",
        "plt.imshow(trainset[0][0][0], cmap='gist_earth')"
      ],
      "metadata": {
        "id": "uqH39HvBgrZb",
        "colab": {
          "base_uri": "https://localhost:8080/",
          "height": 484
        },
        "outputId": "185ebdf6-7c35-4da8-a90a-c18d85f02a00"
      },
      "execution_count": 3,
      "outputs": [
        {
          "output_type": "stream",
          "name": "stdout",
          "text": [
            "50000\n",
            "torch.Size([3, 32, 32]) 6\n"
          ]
        },
        {
          "output_type": "execute_result",
          "data": {
            "text/plain": [
              "<matplotlib.image.AxesImage at 0x7ccead18c070>"
            ]
          },
          "metadata": {},
          "execution_count": 3
        },
        {
          "output_type": "display_data",
          "data": {
            "text/plain": [
              "<Figure size 640x480 with 1 Axes>"
            ],
            "image/png": "[encoded data removed]"
          },
          "metadata": {}
        }
      ]
    },
    {
      "cell_type": "code",
      "source": [
        "batch_size = 256\n",
        "\n",
        "trainloader = torch.utils.data.DataLoader(\n",
        "    trainset,\n",
        "    batch_size=batch_size,\n",
        "    shuffle=True\n",
        ")"
      ],
      "metadata": {
        "id": "TLVQcK4Rgxt_"
      },
      "execution_count": 4,
      "outputs": []
    },
    {
      "cell_type": "code",
      "source": [
        "testset = torchvision.datasets.CIFAR10(\n",
        "    root='./data',\n",
        "    train=False,\n",
        "    download=True,\n",
        "    transform=transform\n",
        ")\n",
        "\n",
        "batch_size = 256\n",
        "\n",
        "testDataLoader = torch.utils.data.DataLoader(\n",
        "    testset,\n",
        "    batch_size=batch_size,\n",
        "    shuffle=False\n",
        ")"
      ],
      "metadata": {
        "id": "kNYh7fdB_u9A",
        "colab": {
          "base_uri": "https://localhost:8080/"
        },
        "outputId": "3879481b-65cf-4052-dfc0-2a54d108b075"
      },
      "execution_count": 5,
      "outputs": [
        {
          "output_type": "stream",
          "name": "stdout",
          "text": [
            "Files already downloaded and verified\n"
          ]
        }
      ]
    },
    {
      "cell_type": "markdown",
      "source": [
        "[MY CODE] Test data 준비하기 shuffle False"
      ],
      "metadata": {
        "id": "KR7jK4VMyjJs"
      }
    },
    {
      "cell_type": "markdown",
      "source": [],
      "metadata": {
        "id": "PozPbLYWydYt"
      }
    },
    {
      "cell_type": "code",
      "source": [
        "dataiter = iter(trainloader)\n",
        "images, labels = next(dataiter)\n",
        "print(images.shape, labels.shape)"
      ],
      "metadata": {
        "id": "ZhemMq_MhB6r",
        "colab": {
          "base_uri": "https://localhost:8080/"
        },
        "outputId": "22c2e848-84e0-49ae-f8ea-50a88fcf25a8"
      },
      "execution_count": 6,
      "outputs": [
        {
          "output_type": "stream",
          "name": "stdout",
          "text": [
            "torch.Size([256, 3, 32, 32]) torch.Size([256])\n"
          ]
        }
      ]
    },
    {
      "cell_type": "code",
      "source": [
        "from torch import nn\n",
        "\n",
        "class Model(nn.Module):\n",
        "  def __init__(self, input_dim, n_dim):\n",
        "    super().__init__()\n",
        "\n",
        "    self.layer1 = nn.Linear(input_dim, n_dim)\n",
        "    self.layer2 = nn.Linear(n_dim, n_dim)\n",
        "    self.layer3 = nn.Linear(n_dim, 10) # Changed output dimension to 10 for CIFAR-10\n",
        "\n",
        "    self.act = nn.LeakyReLU()\n",
        "\n",
        "  def forward(self, x):\n",
        "    x = torch.flatten(x, start_dim=1)\n",
        "    x = self.act(self.layer1(x))\n",
        "    x = self.act(self.layer2(x))\n",
        "    x = self.layer3(x) # Removed activation from the last layer for logits\n",
        "\n",
        "    return x\n",
        "\n",
        "\n",
        "model = Model(32 * 32 * 3, 1024)"
      ],
      "metadata": {
        "id": "p0jSdRH0g16g"
      },
      "execution_count": 7,
      "outputs": []
    },
    {
      "cell_type": "markdown",
      "source": [
        "##[MY CODE] model = Model(32 * 32 * 3, 1024)으로 변경"
      ],
      "metadata": {
        "id": "fX5JWNLY1JhX"
      }
    },
    {
      "cell_type": "markdown",
      "source": [
        "- ## SGD와 Adam 성능 비교\n",
        "    - 먼저 [Adam optimizer](https://pytorch.org/docs/stable/generated/torch.optim.Adam.html)을 사용하여 학습하는 코드를 구현합니다.\n",
        "    - (Plot 1) SGD와 Adam을 학습시킨 후 각각의 epoch에 대한 train 정확도를 plot합니다."
      ],
      "metadata": {
        "id": "W7sRllycD_eB"
      }
    },
    {
      "cell_type": "code",
      "source": [
        "from torch.optim import SGD\n",
        "\n",
        "lr = 0.001\n",
        "model = model.to('cuda')\n",
        "criterion = nn.CrossEntropyLoss()\n",
        "optimizer = SGD(model.parameters(), lr=lr)"
      ],
      "metadata": {
        "id": "OE09L5OlhIqJ"
      },
      "execution_count": null,
      "outputs": []
    },
    {
      "cell_type": "code",
      "source": [
        "from torch.optim import Adam\n",
        "\n",
        "lr = 0.001\n",
        "model2 = model.to('cuda')\n",
        "criterion2 = nn.CrossEntropyLoss()\n",
        "optimizer2 = Adam(model2.parameters(), lr=lr)"
      ],
      "metadata": {
        "id": "XjQjVLPVBJU0"
      },
      "execution_count": null,
      "outputs": []
    },
    {
      "cell_type": "code",
      "source": [
        "def accuracy(model, dataloader):\n",
        "    cnt = 0\n",
        "    acc = 0\n",
        "\n",
        "    for data in dataloader:\n",
        "        inputs, labels = data\n",
        "        inputs, labels = inputs.to('cuda'), labels.to('cuda')\n",
        "\n",
        "        preds = model(inputs)\n",
        "        preds = torch.argmax(preds, dim=-1)\n",
        "\n",
        "        cnt += labels.shape[0]\n",
        "        acc += (labels == preds).sum().item()\n",
        "\n",
        "    return acc / cnt"
      ],
      "metadata": {
        "id": "2FBdfcP0A34H"
      },
      "execution_count": 12,
      "outputs": []
    },
    {
      "cell_type": "markdown",
      "source": [
        "##[LOG] SGD 로그"
      ],
      "metadata": {
        "id": "fcL5qEJrEDL2"
      }
    },
    {
      "cell_type": "code",
      "source": [
        "sgd_train_accs, sgd_test_accs = [], []\n",
        "n_epochs = 50\n",
        "for epoch in range(n_epochs):\n",
        "    total_loss = 0.0\n",
        "    model.train()\n",
        "\n",
        "    for data in trainloader:\n",
        "        inputs, labels = data\n",
        "        inputs, labels = inputs.to('cuda'), labels.to('cuda')\n",
        "\n",
        "        optimizer.zero_grad()\n",
        "        preds = model(inputs)\n",
        "        loss = criterion(preds, labels)\n",
        "        loss.backward()\n",
        "        optimizer.step()\n",
        "\n",
        "        total_loss += loss.item()\n",
        "\n",
        "    # Epoch 끝난 후 Train/Test 정확도 측정\n",
        "    model.eval()\n",
        "    sgd_train_acc = accuracy(model, trainloader)\n",
        "    sgd_test_acc = accuracy(model, testDataLoader)\n",
        "    sgd_train_accs.append(sgd_train_acc)\n",
        "    sgd_test_accs.append(sgd_test_acc)\n",
        "\n",
        "    print(f\"[LOG] SDG Epoch {epoch} | Loss: {total_loss:.4f} | Train Acc: {sgd_train_acc:.4f} | Test Acc: {sgd_test_acc:.4f}\")"
      ],
      "metadata": {
        "colab": {
          "base_uri": "https://localhost:8080/"
        },
        "id": "-bdpAwnVjlDx",
        "outputId": "a73afea9-7b77-4e41-dbbc-0a63d5811a4c"
      },
      "execution_count": null,
      "outputs": [
        {
          "output_type": "stream",
          "name": "stdout",
          "text": [
            "[LOG] SDG Epoch 0 | Loss: 450.2531 | Train Acc: 0.1176 | Test Acc: 0.1145\n",
            "[LOG] SDG Epoch 1 | Loss: 447.9740 | Train Acc: 0.1648 | Test Acc: 0.1611\n",
            "[LOG] SDG Epoch 2 | Loss: 446.0121 | Train Acc: 0.1748 | Test Acc: 0.1747\n",
            "[LOG] SDG Epoch 3 | Loss: 444.1449 | Train Acc: 0.1821 | Test Acc: 0.1823\n",
            "[LOG] SDG Epoch 4 | Loss: 442.2139 | Train Acc: 0.1931 | Test Acc: 0.1943\n",
            "[LOG] SDG Epoch 5 | Loss: 440.1732 | Train Acc: 0.2068 | Test Acc: 0.2051\n",
            "[LOG] SDG Epoch 6 | Loss: 437.9789 | Train Acc: 0.2172 | Test Acc: 0.2143\n",
            "[LOG] SDG Epoch 7 | Loss: 435.6135 | Train Acc: 0.2302 | Test Acc: 0.2271\n",
            "[LOG] SDG Epoch 8 | Loss: 433.0596 | Train Acc: 0.2362 | Test Acc: 0.2329\n",
            "[LOG] SDG Epoch 9 | Loss: 430.3036 | Train Acc: 0.2420 | Test Acc: 0.2378\n",
            "[LOG] SDG Epoch 10 | Loss: 427.4409 | Train Acc: 0.2492 | Test Acc: 0.2456\n",
            "[LOG] SDG Epoch 11 | Loss: 424.4936 | Train Acc: 0.2541 | Test Acc: 0.2518\n",
            "[LOG] SDG Epoch 12 | Loss: 421.5124 | Train Acc: 0.2524 | Test Acc: 0.2493\n",
            "[LOG] SDG Epoch 13 | Loss: 418.5623 | Train Acc: 0.2563 | Test Acc: 0.2549\n",
            "[LOG] SDG Epoch 14 | Loss: 415.6484 | Train Acc: 0.2640 | Test Acc: 0.2638\n",
            "[LOG] SDG Epoch 15 | Loss: 412.9283 | Train Acc: 0.2683 | Test Acc: 0.2677\n",
            "[LOG] SDG Epoch 16 | Loss: 410.3361 | Train Acc: 0.2706 | Test Acc: 0.2700\n",
            "[LOG] SDG Epoch 17 | Loss: 407.9438 | Train Acc: 0.2794 | Test Acc: 0.2798\n",
            "[LOG] SDG Epoch 18 | Loss: 405.6916 | Train Acc: 0.2823 | Test Acc: 0.2831\n",
            "[LOG] SDG Epoch 19 | Loss: 403.5950 | Train Acc: 0.2843 | Test Acc: 0.2836\n",
            "[LOG] SDG Epoch 20 | Loss: 401.4553 | Train Acc: 0.2884 | Test Acc: 0.2895\n",
            "[LOG] SDG Epoch 21 | Loss: 399.6023 | Train Acc: 0.2896 | Test Acc: 0.2888\n",
            "[LOG] SDG Epoch 22 | Loss: 397.7659 | Train Acc: 0.2914 | Test Acc: 0.2918\n",
            "[LOG] SDG Epoch 23 | Loss: 396.0872 | Train Acc: 0.2947 | Test Acc: 0.2933\n",
            "[LOG] SDG Epoch 24 | Loss: 394.3371 | Train Acc: 0.2983 | Test Acc: 0.2955\n",
            "[LOG] SDG Epoch 25 | Loss: 392.8167 | Train Acc: 0.2989 | Test Acc: 0.2984\n",
            "[LOG] SDG Epoch 26 | Loss: 391.3212 | Train Acc: 0.3022 | Test Acc: 0.3009\n",
            "[LOG] SDG Epoch 27 | Loss: 389.8452 | Train Acc: 0.3022 | Test Acc: 0.3015\n",
            "[LOG] SDG Epoch 28 | Loss: 388.4692 | Train Acc: 0.3039 | Test Acc: 0.3044\n",
            "[LOG] SDG Epoch 29 | Loss: 387.2126 | Train Acc: 0.3080 | Test Acc: 0.3068\n",
            "[LOG] SDG Epoch 30 | Loss: 385.8848 | Train Acc: 0.3070 | Test Acc: 0.3071\n",
            "[LOG] SDG Epoch 31 | Loss: 384.6836 | Train Acc: 0.3116 | Test Acc: 0.3095\n",
            "[LOG] SDG Epoch 32 | Loss: 383.5610 | Train Acc: 0.3123 | Test Acc: 0.3104\n",
            "[LOG] SDG Epoch 33 | Loss: 382.4068 | Train Acc: 0.3146 | Test Acc: 0.3118\n",
            "[LOG] SDG Epoch 34 | Loss: 381.4057 | Train Acc: 0.3165 | Test Acc: 0.3130\n",
            "[LOG] SDG Epoch 35 | Loss: 380.3962 | Train Acc: 0.3183 | Test Acc: 0.3146\n",
            "[LOG] SDG Epoch 36 | Loss: 379.4347 | Train Acc: 0.3191 | Test Acc: 0.3155\n",
            "[LOG] SDG Epoch 37 | Loss: 378.5487 | Train Acc: 0.3222 | Test Acc: 0.3190\n",
            "[LOG] SDG Epoch 38 | Loss: 377.6116 | Train Acc: 0.3216 | Test Acc: 0.3178\n",
            "[LOG] SDG Epoch 39 | Loss: 376.7897 | Train Acc: 0.3235 | Test Acc: 0.3204\n",
            "[LOG] SDG Epoch 40 | Loss: 375.8597 | Train Acc: 0.3261 | Test Acc: 0.3233\n",
            "[LOG] SDG Epoch 41 | Loss: 375.0239 | Train Acc: 0.3268 | Test Acc: 0.3229\n",
            "[LOG] SDG Epoch 42 | Loss: 374.3936 | Train Acc: 0.3301 | Test Acc: 0.3265\n",
            "[LOG] SDG Epoch 43 | Loss: 373.5379 | Train Acc: 0.3316 | Test Acc: 0.3268\n",
            "[LOG] SDG Epoch 44 | Loss: 372.8208 | Train Acc: 0.3312 | Test Acc: 0.3275\n",
            "[LOG] SDG Epoch 45 | Loss: 372.1182 | Train Acc: 0.3337 | Test Acc: 0.3294\n",
            "[LOG] SDG Epoch 46 | Loss: 371.4590 | Train Acc: 0.3351 | Test Acc: 0.3317\n",
            "[LOG] SDG Epoch 47 | Loss: 370.7736 | Train Acc: 0.3371 | Test Acc: 0.3331\n",
            "[LOG] SDG Epoch 48 | Loss: 370.0874 | Train Acc: 0.3381 | Test Acc: 0.3330\n",
            "[LOG] SDG Epoch 49 | Loss: 369.4127 | Train Acc: 0.3388 | Test Acc: 0.3375\n"
          ]
        }
      ]
    },
    {
      "cell_type": "markdown",
      "source": [
        "## [LOG] Adam 로그"
      ],
      "metadata": {
        "id": "P5SpyD9uJmd-"
      }
    },
    {
      "cell_type": "code",
      "source": [
        "adam_train_accs, adam_test_accs = [], []\n",
        "n_epochs = 50\n",
        "for epoch in range(n_epochs):\n",
        "    total_loss2 = 0.0\n",
        "    model2.train()\n",
        "    for data in trainloader:\n",
        "        inputs, labels = data\n",
        "        inputs, labels = inputs.to('cuda'), labels.to('cuda')\n",
        "\n",
        "        optimizer2.zero_grad()\n",
        "        preds2 = model2(inputs)\n",
        "        loss = criterion2(preds2, labels)\n",
        "        loss.backward()\n",
        "        optimizer2.step()\n",
        "\n",
        "        total_loss2 += loss.item()\n",
        "\n",
        "    # Epoch 끝난 후 Train/Test 정확도 측정\n",
        "    model.eval()\n",
        "    adam_train_acc = accuracy(model2, trainloader)\n",
        "    adam_test_acc = accuracy(model2, testDataLoader)\n",
        "    adam_train_accs.append(adam_train_acc)\n",
        "    adam_test_accs.append(adam_test_acc)\n",
        "\n",
        "    print(f\"[LOG] ADAM Epoch {epoch} | Loss: {total_loss2:.4f} | Train Acc: {adam_train_acc:.4f} | Test Acc: {adam_test_acc:.4f}\")"
      ],
      "metadata": {
        "colab": {
          "base_uri": "https://localhost:8080/"
        },
        "id": "3FoGRvXbDVwk",
        "outputId": "26230c05-584f-4939-bcbb-a8b8ad769bd4"
      },
      "execution_count": null,
      "outputs": [
        {
          "output_type": "stream",
          "name": "stdout",
          "text": [
            "[LOG] ADAM Epoch 0 | Loss: 364.7856 | Train Acc: 0.3529 | Test Acc: 0.3597\n",
            "[LOG] ADAM Epoch 1 | Loss: 324.2925 | Train Acc: 0.4294 | Test Acc: 0.4242\n",
            "[LOG] ADAM Epoch 2 | Loss: 308.7333 | Train Acc: 0.4390 | Test Acc: 0.4315\n",
            "[LOG] ADAM Epoch 3 | Loss: 294.3516 | Train Acc: 0.4802 | Test Acc: 0.4649\n",
            "[LOG] ADAM Epoch 4 | Loss: 284.8388 | Train Acc: 0.4795 | Test Acc: 0.4668\n",
            "[LOG] ADAM Epoch 5 | Loss: 277.0136 | Train Acc: 0.4808 | Test Acc: 0.4570\n",
            "[LOG] ADAM Epoch 6 | Loss: 269.3201 | Train Acc: 0.4988 | Test Acc: 0.4739\n",
            "[LOG] ADAM Epoch 7 | Loss: 262.2081 | Train Acc: 0.5287 | Test Acc: 0.4898\n",
            "[LOG] ADAM Epoch 8 | Loss: 256.1846 | Train Acc: 0.5456 | Test Acc: 0.5056\n",
            "[LOG] ADAM Epoch 9 | Loss: 252.3857 | Train Acc: 0.5466 | Test Acc: 0.5031\n",
            "[LOG] ADAM Epoch 10 | Loss: 244.5370 | Train Acc: 0.5578 | Test Acc: 0.5126\n",
            "[LOG] ADAM Epoch 11 | Loss: 239.1454 | Train Acc: 0.5691 | Test Acc: 0.5136\n",
            "[LOG] ADAM Epoch 12 | Loss: 235.5407 | Train Acc: 0.5870 | Test Acc: 0.5216\n",
            "[LOG] ADAM Epoch 13 | Loss: 228.1607 | Train Acc: 0.5997 | Test Acc: 0.5254\n",
            "[LOG] ADAM Epoch 14 | Loss: 222.3042 | Train Acc: 0.5884 | Test Acc: 0.5131\n",
            "[LOG] ADAM Epoch 15 | Loss: 219.9720 | Train Acc: 0.6212 | Test Acc: 0.5284\n",
            "[LOG] ADAM Epoch 16 | Loss: 212.4404 | Train Acc: 0.6241 | Test Acc: 0.5308\n",
            "[LOG] ADAM Epoch 17 | Loss: 210.0890 | Train Acc: 0.6384 | Test Acc: 0.5339\n",
            "[LOG] ADAM Epoch 18 | Loss: 204.5981 | Train Acc: 0.6487 | Test Acc: 0.5333\n",
            "[LOG] ADAM Epoch 19 | Loss: 197.6373 | Train Acc: 0.6472 | Test Acc: 0.5278\n",
            "[LOG] ADAM Epoch 20 | Loss: 194.2646 | Train Acc: 0.6555 | Test Acc: 0.5286\n",
            "[LOG] ADAM Epoch 21 | Loss: 190.3387 | Train Acc: 0.6716 | Test Acc: 0.5293\n",
            "[LOG] ADAM Epoch 22 | Loss: 182.7496 | Train Acc: 0.6681 | Test Acc: 0.5164\n",
            "[LOG] ADAM Epoch 23 | Loss: 177.4496 | Train Acc: 0.6998 | Test Acc: 0.5379\n",
            "[LOG] ADAM Epoch 24 | Loss: 173.8237 | Train Acc: 0.7019 | Test Acc: 0.5365\n",
            "[LOG] ADAM Epoch 25 | Loss: 166.1015 | Train Acc: 0.7269 | Test Acc: 0.5461\n",
            "[LOG] ADAM Epoch 26 | Loss: 162.8845 | Train Acc: 0.7330 | Test Acc: 0.5366\n",
            "[LOG] ADAM Epoch 27 | Loss: 156.3003 | Train Acc: 0.7347 | Test Acc: 0.5354\n",
            "[LOG] ADAM Epoch 28 | Loss: 153.8267 | Train Acc: 0.7472 | Test Acc: 0.5363\n",
            "[LOG] ADAM Epoch 29 | Loss: 148.5256 | Train Acc: 0.7565 | Test Acc: 0.5344\n",
            "[LOG] ADAM Epoch 30 | Loss: 141.1627 | Train Acc: 0.7493 | Test Acc: 0.5266\n",
            "[LOG] ADAM Epoch 31 | Loss: 134.8086 | Train Acc: 0.7765 | Test Acc: 0.5329\n",
            "[LOG] ADAM Epoch 32 | Loss: 131.0973 | Train Acc: 0.7694 | Test Acc: 0.5286\n",
            "[LOG] ADAM Epoch 33 | Loss: 125.1836 | Train Acc: 0.7889 | Test Acc: 0.5280\n",
            "[LOG] ADAM Epoch 34 | Loss: 121.9549 | Train Acc: 0.7918 | Test Acc: 0.5260\n",
            "[LOG] ADAM Epoch 35 | Loss: 117.8507 | Train Acc: 0.7833 | Test Acc: 0.5205\n",
            "[LOG] ADAM Epoch 36 | Loss: 115.4113 | Train Acc: 0.8241 | Test Acc: 0.5394\n",
            "[LOG] ADAM Epoch 37 | Loss: 107.9099 | Train Acc: 0.8199 | Test Acc: 0.5296\n",
            "[LOG] ADAM Epoch 38 | Loss: 103.2836 | Train Acc: 0.8377 | Test Acc: 0.5290\n",
            "[LOG] ADAM Epoch 39 | Loss: 101.6361 | Train Acc: 0.8434 | Test Acc: 0.5360\n",
            "[LOG] ADAM Epoch 40 | Loss: 97.9873 | Train Acc: 0.8313 | Test Acc: 0.5220\n",
            "[LOG] ADAM Epoch 41 | Loss: 92.0766 | Train Acc: 0.8550 | Test Acc: 0.5288\n",
            "[LOG] ADAM Epoch 42 | Loss: 86.5826 | Train Acc: 0.8624 | Test Acc: 0.5381\n",
            "[LOG] ADAM Epoch 43 | Loss: 86.6961 | Train Acc: 0.8584 | Test Acc: 0.5305\n",
            "[LOG] ADAM Epoch 44 | Loss: 82.7607 | Train Acc: 0.8482 | Test Acc: 0.5253\n",
            "[LOG] ADAM Epoch 45 | Loss: 82.0755 | Train Acc: 0.8543 | Test Acc: 0.5196\n",
            "[LOG] ADAM Epoch 46 | Loss: 74.9607 | Train Acc: 0.8786 | Test Acc: 0.5284\n",
            "[LOG] ADAM Epoch 47 | Loss: 73.5222 | Train Acc: 0.8749 | Test Acc: 0.5288\n",
            "[LOG] ADAM Epoch 48 | Loss: 72.4973 | Train Acc: 0.8820 | Test Acc: 0.5323\n",
            "[LOG] ADAM Epoch 49 | Loss: 67.6835 | Train Acc: 0.8898 | Test Acc: 0.5314\n"
          ]
        }
      ]
    },
    {
      "cell_type": "markdown",
      "source": [
        "## SGD와 Adam 성능 비교 PLOT"
      ],
      "metadata": {
        "id": "IID01eLWJqoA"
      }
    },
    {
      "cell_type": "code",
      "source": [
        "import numpy as np\n",
        "\n",
        "def plot_acc(sgd_train_accs, sgd_test_accs, adam_train_accs, adam_test_accs, label1='SDG_train', label2='SDG_test', label3='ADAM_train', label4='ADAM_test'):\n",
        "  x = np.arange(len(sgd_train_accs))\n",
        "  x2 = np.arange(len(adam_train_accs))\n",
        "  plt.plot(x, sgd_train_accs, label=label1)\n",
        "  plt.plot(x, sgd_test_accs, label=label2)\n",
        "  plt.plot(x2, adam_train_accs, label=label3)\n",
        "  plt.plot(x2, adam_test_accs, label=label4)\n",
        "  plt.legend()\n",
        "  plt.show()\n",
        "\n",
        "plot_acc(sgd_train_accs, sgd_test_accs, adam_train_accs, adam_test_accs)"
      ],
      "metadata": {
        "colab": {
          "base_uri": "https://localhost:8080/",
          "height": 430
        },
        "id": "xDbPap6uEMY4",
        "outputId": "5346bf93-7bee-4050-e006-a225c5f15f96"
      },
      "execution_count": null,
      "outputs": [
        {
          "output_type": "display_data",
          "data": {
            "text/plain": [
              "<Figure size 640x480 with 1 Axes>"
            ],
            "image/png": "[encoded data removed]"
          },
          "metadata": {}
        }
      ]
    },
    {
      "cell_type": "markdown",
      "source": [
        "##- Leaky ReLU와 Sigmoid 성능 비교\n",
        "    - Activation 함수가 `nn.Sigmoid`인 class를 새로 정의합니다.\n",
        "    - (Plot 2) Adam optimizer를 가지고 sigmoid와 leaky ReLU 모델들을 학습한 후, epoch에 따른 train 정확도를 비교합니다."
      ],
      "metadata": {
        "id": "isyI-NYN_9Dk"
      }
    },
    {
      "cell_type": "code",
      "source": [
        "from torch import nn\n",
        "\n",
        "class Model2(nn.Module):\n",
        "  def __init__(self, input_dim, n_dim):\n",
        "    super().__init__()\n",
        "\n",
        "    self.layer1 = nn.Linear(input_dim, n_dim)\n",
        "    self.layer2 = nn.Linear(n_dim, n_dim)\n",
        "    self.layer3 = nn.Linear(n_dim, 10) # Changed output dimension to 10\n",
        "\n",
        "    self.act = nn.Sigmoid()\n",
        "\n",
        "  def forward(self, x):\n",
        "    x = torch.flatten(x, start_dim=1)\n",
        "    x = self.act(self.layer1(x))\n",
        "    x = self.act(self.layer2(x))\n",
        "    x = self.layer3(x) # Removed sigmoid from the last layer\n",
        "\n",
        "    return x\n",
        "\n",
        "\n",
        "model3 = Model2(32 * 32 * 3, 1024)"
      ],
      "metadata": {
        "id": "5opwPUfUAH9k"
      },
      "execution_count": 8,
      "outputs": []
    },
    {
      "cell_type": "code",
      "source": [
        "from torch.optim import Adam\n",
        "\n",
        "lr = 0.001\n",
        "model2 = model.to('cuda')\n",
        "optimizer2 = Adam(model2.parameters(), lr=lr)"
      ],
      "metadata": {
        "id": "g7WImivq_nOh"
      },
      "execution_count": 9,
      "outputs": []
    },
    {
      "cell_type": "code",
      "source": [
        "from torch.optim import Adam\n",
        "\n",
        "lr = 0.001\n",
        "model3 = model3.to('cuda')\n",
        "optimizer3 = Adam(model3.parameters(), lr=lr)"
      ],
      "metadata": {
        "id": "Vb7tyvAUASlZ"
      },
      "execution_count": 10,
      "outputs": []
    },
    {
      "cell_type": "markdown",
      "source": [
        "## [LOG] Sigmoid 로그"
      ],
      "metadata": {
        "id": "r_27IBxILkOa"
      }
    },
    {
      "cell_type": "code",
      "source": [
        "Sigmoid_train_accs, Sigmoid_test_accs = [], []\n",
        "\n",
        "n_epochs = 50\n",
        "# Define criterion3\n",
        "criterion3 = nn.CrossEntropyLoss()\n",
        "\n",
        "for epoch in range(n_epochs):\n",
        "    # Sigmoid 모델 훈련\n",
        "    total_loss3 = 0.0\n",
        "    model3.train()\n",
        "    for data in trainloader:\n",
        "        inputs, labels = data\n",
        "\n",
        "        # 라벨 확인 및 변환\n",
        "        labels = labels.long()  # 라벨을 정수형으로 변환\n",
        "        inputs, labels = inputs.to('cuda'), labels.to('cuda')\n",
        "\n",
        "        optimizer3.zero_grad()\n",
        "        preds3 = model3(inputs)\n",
        "        loss = criterion3(preds3, labels)\n",
        "        loss.backward()  # 여기서 CUDA 에러 발생 가능\n",
        "        optimizer3.step()\n",
        "\n",
        "        total_loss3 += loss.item()\n",
        "\n",
        "    # Sigmoid 모델 정확도 측정\n",
        "    with torch.no_grad():\n",
        "      model3.eval()\n",
        "      Sigmoid_train_acc = accuracy(model3, trainloader)\n",
        "      Sigmoid_test_acc = accuracy(model3, testDataLoader)\n",
        "\n",
        "    Sigmoid_train_accs.append(Sigmoid_train_acc)\n",
        "    Sigmoid_test_accs.append(Sigmoid_test_acc)\n",
        "\n",
        "    print(f\"[LOG] Sigmoid Epoch {epoch} | Loss: {total_loss3:.4f} | Train Acc: {Sigmoid_train_acc:.4f} | Test Acc: {Sigmoid_test_acc:.4f}\")\n"
      ],
      "metadata": {
        "colab": {
          "base_uri": "https://localhost:8080/"
        },
        "id": "CJlfhnVJBGba",
        "outputId": "83b8cfb3-af5e-480e-c8d2-cc4a4b0c14e5"
      },
      "execution_count": 14,
      "outputs": [
        {
          "output_type": "stream",
          "name": "stdout",
          "text": [
            "[LOG] Sigmoid Epoch 0 | Loss: 292.6942 | Train Acc: 0.4761 | Test Acc: 0.4565\n",
            "[LOG] Sigmoid Epoch 1 | Loss: 285.7590 | Train Acc: 0.4817 | Test Acc: 0.4642\n",
            "[LOG] Sigmoid Epoch 2 | Loss: 280.6835 | Train Acc: 0.4964 | Test Acc: 0.4770\n",
            "[LOG] Sigmoid Epoch 3 | Loss: 276.6000 | Train Acc: 0.5119 | Test Acc: 0.4837\n",
            "[LOG] Sigmoid Epoch 4 | Loss: 268.2369 | Train Acc: 0.5102 | Test Acc: 0.4762\n",
            "[LOG] Sigmoid Epoch 5 | Loss: 263.5744 | Train Acc: 0.5317 | Test Acc: 0.5010\n",
            "[LOG] Sigmoid Epoch 6 | Loss: 260.2507 | Train Acc: 0.5084 | Test Acc: 0.4735\n",
            "[LOG] Sigmoid Epoch 7 | Loss: 255.3660 | Train Acc: 0.5444 | Test Acc: 0.4991\n",
            "[LOG] Sigmoid Epoch 8 | Loss: 251.5462 | Train Acc: 0.5394 | Test Acc: 0.4893\n",
            "[LOG] Sigmoid Epoch 9 | Loss: 247.2187 | Train Acc: 0.5623 | Test Acc: 0.5131\n",
            "[LOG] Sigmoid Epoch 10 | Loss: 243.1340 | Train Acc: 0.5612 | Test Acc: 0.5041\n",
            "[LOG] Sigmoid Epoch 11 | Loss: 239.7155 | Train Acc: 0.5583 | Test Acc: 0.5027\n",
            "[LOG] Sigmoid Epoch 12 | Loss: 235.7659 | Train Acc: 0.5848 | Test Acc: 0.5143\n",
            "[LOG] Sigmoid Epoch 13 | Loss: 233.5367 | Train Acc: 0.5940 | Test Acc: 0.5272\n",
            "[LOG] Sigmoid Epoch 14 | Loss: 229.0216 | Train Acc: 0.5916 | Test Acc: 0.5208\n",
            "[LOG] Sigmoid Epoch 15 | Loss: 224.9678 | Train Acc: 0.5833 | Test Acc: 0.5107\n",
            "[LOG] Sigmoid Epoch 16 | Loss: 224.1147 | Train Acc: 0.6083 | Test Acc: 0.5172\n",
            "[LOG] Sigmoid Epoch 17 | Loss: 218.8736 | Train Acc: 0.6102 | Test Acc: 0.5197\n",
            "[LOG] Sigmoid Epoch 18 | Loss: 214.4421 | Train Acc: 0.5988 | Test Acc: 0.5168\n",
            "[LOG] Sigmoid Epoch 19 | Loss: 211.9984 | Train Acc: 0.6231 | Test Acc: 0.5268\n",
            "[LOG] Sigmoid Epoch 20 | Loss: 208.8247 | Train Acc: 0.6358 | Test Acc: 0.5325\n",
            "[LOG] Sigmoid Epoch 21 | Loss: 206.0707 | Train Acc: 0.6240 | Test Acc: 0.5278\n",
            "[LOG] Sigmoid Epoch 22 | Loss: 203.6228 | Train Acc: 0.6435 | Test Acc: 0.5261\n",
            "[LOG] Sigmoid Epoch 23 | Loss: 199.0624 | Train Acc: 0.6310 | Test Acc: 0.5151\n",
            "[LOG] Sigmoid Epoch 24 | Loss: 195.4893 | Train Acc: 0.6227 | Test Acc: 0.5115\n",
            "[LOG] Sigmoid Epoch 25 | Loss: 193.4430 | Train Acc: 0.6498 | Test Acc: 0.5248\n",
            "[LOG] Sigmoid Epoch 26 | Loss: 187.9267 | Train Acc: 0.6651 | Test Acc: 0.5317\n",
            "[LOG] Sigmoid Epoch 27 | Loss: 188.2688 | Train Acc: 0.6599 | Test Acc: 0.5279\n",
            "[LOG] Sigmoid Epoch 28 | Loss: 182.2322 | Train Acc: 0.6710 | Test Acc: 0.5289\n",
            "[LOG] Sigmoid Epoch 29 | Loss: 178.6637 | Train Acc: 0.6611 | Test Acc: 0.5178\n",
            "[LOG] Sigmoid Epoch 30 | Loss: 177.2734 | Train Acc: 0.6928 | Test Acc: 0.5314\n",
            "[LOG] Sigmoid Epoch 31 | Loss: 175.5412 | Train Acc: 0.7015 | Test Acc: 0.5388\n",
            "[LOG] Sigmoid Epoch 32 | Loss: 171.7671 | Train Acc: 0.7034 | Test Acc: 0.5287\n",
            "[LOG] Sigmoid Epoch 33 | Loss: 169.8316 | Train Acc: 0.6562 | Test Acc: 0.5051\n",
            "[LOG] Sigmoid Epoch 34 | Loss: 167.8250 | Train Acc: 0.6757 | Test Acc: 0.5083\n",
            "[LOG] Sigmoid Epoch 35 | Loss: 162.7447 | Train Acc: 0.6996 | Test Acc: 0.5176\n",
            "[LOG] Sigmoid Epoch 36 | Loss: 158.3920 | Train Acc: 0.7210 | Test Acc: 0.5305\n",
            "[LOG] Sigmoid Epoch 37 | Loss: 156.4420 | Train Acc: 0.7378 | Test Acc: 0.5340\n",
            "[LOG] Sigmoid Epoch 38 | Loss: 154.4981 | Train Acc: 0.7300 | Test Acc: 0.5335\n",
            "[LOG] Sigmoid Epoch 39 | Loss: 152.4604 | Train Acc: 0.7187 | Test Acc: 0.5308\n",
            "[LOG] Sigmoid Epoch 40 | Loss: 149.4692 | Train Acc: 0.7346 | Test Acc: 0.5317\n",
            "[LOG] Sigmoid Epoch 41 | Loss: 146.6739 | Train Acc: 0.7084 | Test Acc: 0.5059\n",
            "[LOG] Sigmoid Epoch 42 | Loss: 145.1492 | Train Acc: 0.7287 | Test Acc: 0.5166\n",
            "[LOG] Sigmoid Epoch 43 | Loss: 142.1992 | Train Acc: 0.7692 | Test Acc: 0.5390\n",
            "[LOG] Sigmoid Epoch 44 | Loss: 138.0728 | Train Acc: 0.7647 | Test Acc: 0.5301\n",
            "[LOG] Sigmoid Epoch 45 | Loss: 134.9144 | Train Acc: 0.7614 | Test Acc: 0.5289\n",
            "[LOG] Sigmoid Epoch 46 | Loss: 135.1036 | Train Acc: 0.7513 | Test Acc: 0.5178\n",
            "[LOG] Sigmoid Epoch 47 | Loss: 130.4357 | Train Acc: 0.7506 | Test Acc: 0.5188\n",
            "[LOG] Sigmoid Epoch 48 | Loss: 127.9836 | Train Acc: 0.7624 | Test Acc: 0.5290\n",
            "[LOG] Sigmoid Epoch 49 | Loss: 125.5086 | Train Acc: 0.7460 | Test Acc: 0.5136\n"
          ]
        }
      ]
    },
    {
      "cell_type": "code",
      "source": [
        "adam_train_accs, adam_test_accs = [], []\n",
        "criterion2 = nn.CrossEntropyLoss()\n",
        "# ADAM 모델 훈련\n",
        "\n",
        "for epoch in range(n_epochs):\n",
        "    total_loss2 = 0.0\n",
        "    model2.train()\n",
        "    for data in trainloader:\n",
        "      inputs, labels = data\n",
        "\n",
        "      # 라벨 확인 및 변환\n",
        "      labels = labels.long()  # 라벨을 정수형으로 변환\n",
        "      inputs, labels = inputs.to('cuda'), labels.to('cuda')\n",
        "\n",
        "      optimizer2.zero_grad()\n",
        "      preds2 = model2(inputs)\n",
        "      loss = criterion2(preds2, labels)\n",
        "      loss.backward()  # 여기서 CUDA 에러 발생 가능\n",
        "      optimizer2.step()\n",
        "\n",
        "      total_loss2 += loss.item()\n",
        "\n",
        "    # ADAM 모델 정확도 측정\n",
        "    with torch.no_grad():\n",
        "      model2.eval()\n",
        "      adam_train_acc = accuracy(model2, trainloader)\n",
        "      adam_test_acc = accuracy(model2, testDataLoader)\n",
        "\n",
        "    adam_train_accs.append(adam_train_acc)\n",
        "    adam_test_accs.append(adam_test_acc)\n",
        "\n",
        "    print(f\"[LOG] ADAM Epoch {epoch} | Loss: {total_loss2:.4f} | Train Acc: {adam_train_acc:.4f} | Test Acc: {adam_test_acc:.4f}\")"
      ],
      "metadata": {
        "id": "q2ov0AbV9BSM",
        "colab": {
          "base_uri": "https://localhost:8080/"
        },
        "outputId": "3fc53d83-2f8e-42e7-c9df-4748b317082d"
      },
      "execution_count": 15,
      "outputs": [
        {
          "output_type": "stream",
          "name": "stdout",
          "text": [
            "[LOG] ADAM Epoch 0 | Loss: 364.6126 | Train Acc: 0.3861 | Test Acc: 0.3833\n",
            "[LOG] ADAM Epoch 1 | Loss: 323.8170 | Train Acc: 0.4402 | Test Acc: 0.4367\n",
            "[LOG] ADAM Epoch 2 | Loss: 303.8465 | Train Acc: 0.4645 | Test Acc: 0.4555\n",
            "[LOG] ADAM Epoch 3 | Loss: 293.7471 | Train Acc: 0.4704 | Test Acc: 0.4584\n",
            "[LOG] ADAM Epoch 4 | Loss: 283.3823 | Train Acc: 0.4896 | Test Acc: 0.4699\n",
            "[LOG] ADAM Epoch 5 | Loss: 275.1940 | Train Acc: 0.5137 | Test Acc: 0.4877\n",
            "[LOG] ADAM Epoch 6 | Loss: 268.9133 | Train Acc: 0.5234 | Test Acc: 0.4957\n",
            "[LOG] ADAM Epoch 7 | Loss: 261.8115 | Train Acc: 0.5388 | Test Acc: 0.5088\n",
            "[LOG] ADAM Epoch 8 | Loss: 256.3218 | Train Acc: 0.5324 | Test Acc: 0.4982\n",
            "[LOG] ADAM Epoch 9 | Loss: 250.5223 | Train Acc: 0.5676 | Test Acc: 0.5248\n",
            "[LOG] ADAM Epoch 10 | Loss: 244.4487 | Train Acc: 0.5742 | Test Acc: 0.5161\n",
            "[LOG] ADAM Epoch 11 | Loss: 238.6508 | Train Acc: 0.5813 | Test Acc: 0.5142\n",
            "[LOG] ADAM Epoch 12 | Loss: 233.0058 | Train Acc: 0.5799 | Test Acc: 0.5193\n",
            "[LOG] ADAM Epoch 13 | Loss: 229.9099 | Train Acc: 0.5777 | Test Acc: 0.5098\n",
            "[LOG] ADAM Epoch 14 | Loss: 223.2186 | Train Acc: 0.6055 | Test Acc: 0.5249\n",
            "[LOG] ADAM Epoch 15 | Loss: 218.0027 | Train Acc: 0.6207 | Test Acc: 0.5282\n",
            "[LOG] ADAM Epoch 16 | Loss: 212.0590 | Train Acc: 0.6300 | Test Acc: 0.5296\n",
            "[LOG] ADAM Epoch 17 | Loss: 207.6722 | Train Acc: 0.6271 | Test Acc: 0.5329\n",
            "[LOG] ADAM Epoch 18 | Loss: 202.2133 | Train Acc: 0.6483 | Test Acc: 0.5362\n",
            "[LOG] ADAM Epoch 19 | Loss: 197.5920 | Train Acc: 0.6312 | Test Acc: 0.5214\n",
            "[LOG] ADAM Epoch 20 | Loss: 192.0333 | Train Acc: 0.6680 | Test Acc: 0.5452\n",
            "[LOG] ADAM Epoch 21 | Loss: 185.9026 | Train Acc: 0.6720 | Test Acc: 0.5340\n",
            "[LOG] ADAM Epoch 22 | Loss: 180.5110 | Train Acc: 0.6752 | Test Acc: 0.5280\n",
            "[LOG] ADAM Epoch 23 | Loss: 176.0747 | Train Acc: 0.6940 | Test Acc: 0.5429\n",
            "[LOG] ADAM Epoch 24 | Loss: 171.9592 | Train Acc: 0.7036 | Test Acc: 0.5336\n",
            "[LOG] ADAM Epoch 25 | Loss: 165.7393 | Train Acc: 0.7058 | Test Acc: 0.5296\n",
            "[LOG] ADAM Epoch 26 | Loss: 160.8989 | Train Acc: 0.7026 | Test Acc: 0.5215\n",
            "[LOG] ADAM Epoch 27 | Loss: 154.2397 | Train Acc: 0.7103 | Test Acc: 0.5192\n",
            "[LOG] ADAM Epoch 28 | Loss: 150.1149 | Train Acc: 0.7472 | Test Acc: 0.5347\n",
            "[LOG] ADAM Epoch 29 | Loss: 145.9210 | Train Acc: 0.7475 | Test Acc: 0.5413\n",
            "[LOG] ADAM Epoch 30 | Loss: 140.1181 | Train Acc: 0.7747 | Test Acc: 0.5354\n",
            "[LOG] ADAM Epoch 31 | Loss: 133.9365 | Train Acc: 0.7723 | Test Acc: 0.5358\n",
            "[LOG] ADAM Epoch 32 | Loss: 129.8934 | Train Acc: 0.7934 | Test Acc: 0.5391\n",
            "[LOG] ADAM Epoch 33 | Loss: 123.2915 | Train Acc: 0.8076 | Test Acc: 0.5376\n",
            "[LOG] ADAM Epoch 34 | Loss: 120.2463 | Train Acc: 0.8101 | Test Acc: 0.5349\n",
            "[LOG] ADAM Epoch 35 | Loss: 115.9031 | Train Acc: 0.8076 | Test Acc: 0.5332\n",
            "[LOG] ADAM Epoch 36 | Loss: 111.9081 | Train Acc: 0.8114 | Test Acc: 0.5352\n",
            "[LOG] ADAM Epoch 37 | Loss: 108.0727 | Train Acc: 0.7824 | Test Acc: 0.5207\n",
            "[LOG] ADAM Epoch 38 | Loss: 102.3665 | Train Acc: 0.8406 | Test Acc: 0.5355\n",
            "[LOG] ADAM Epoch 39 | Loss: 97.1127 | Train Acc: 0.8394 | Test Acc: 0.5286\n",
            "[LOG] ADAM Epoch 40 | Loss: 95.1850 | Train Acc: 0.8391 | Test Acc: 0.5308\n",
            "[LOG] ADAM Epoch 41 | Loss: 90.1616 | Train Acc: 0.8319 | Test Acc: 0.5316\n",
            "[LOG] ADAM Epoch 42 | Loss: 87.3027 | Train Acc: 0.8451 | Test Acc: 0.5316\n",
            "[LOG] ADAM Epoch 43 | Loss: 85.9628 | Train Acc: 0.8683 | Test Acc: 0.5285\n",
            "[LOG] ADAM Epoch 44 | Loss: 81.6977 | Train Acc: 0.8836 | Test Acc: 0.5317\n",
            "[LOG] ADAM Epoch 45 | Loss: 74.7221 | Train Acc: 0.8702 | Test Acc: 0.5292\n",
            "[LOG] ADAM Epoch 46 | Loss: 73.4560 | Train Acc: 0.8756 | Test Acc: 0.5315\n",
            "[LOG] ADAM Epoch 47 | Loss: 71.7123 | Train Acc: 0.8890 | Test Acc: 0.5379\n",
            "[LOG] ADAM Epoch 48 | Loss: 66.6503 | Train Acc: 0.8798 | Test Acc: 0.5249\n",
            "[LOG] ADAM Epoch 49 | Loss: 68.2437 | Train Acc: 0.8932 | Test Acc: 0.5230\n"
          ]
        }
      ]
    },
    {
      "cell_type": "markdown",
      "source": [
        "## [plot] 결과확인"
      ],
      "metadata": {
        "id": "QI58YmQyD4gL"
      }
    },
    {
      "cell_type": "code",
      "source": [
        "import numpy as np\n",
        "\n",
        "def plot_acc(Sigmoid_train_accs, Sigmoid_test_accs, adam_train_accs, adam_test_accs, label1='Sigmoid_train', label2='Sigmoid_test', label3='ADAM_train', label4='ADAM_test'):\n",
        "  x = np.arange(len(Sigmoid_train_accs))\n",
        "  x2 = np.arange(len(adam_train_accs))\n",
        "  plt.plot(x, Sigmoid_train_accs, label=label1)\n",
        "  plt.plot(x, Sigmoid_test_accs, label=label2)\n",
        "  plt.plot(x2, adam_train_accs, label=label3)\n",
        "  plt.plot(x2, adam_test_accs, label=label4)\n",
        "  plt.legend()\n",
        "  plt.show()\n",
        "\n",
        "plot_acc(Sigmoid_train_accs, Sigmoid_test_accs, adam_train_accs, adam_test_accs)"
      ],
      "metadata": {
        "colab": {
          "base_uri": "https://localhost:8080/",
          "height": 430
        },
        "id": "v8NoB1vxD9FU",
        "outputId": "0aa1b847-81dd-481a-ea27-4e1b98d4154f"
      },
      "execution_count": 16,
      "outputs": [
        {
          "output_type": "display_data",
          "data": {
            "text/plain": [
              "<Figure size 640x480 with 1 Axes>"
            ],
            "image/png": "[encoded data removed]"
          },
          "metadata": {}
        }
      ]
    }
  ]
}