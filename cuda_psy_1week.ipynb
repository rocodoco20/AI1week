{
  "nbformat": 4,
  "nbformat_minor": 0,
  "metadata": {
    "colab": {
      "provenance": [],
      "gpuType": "T4",
      "authorship_tag": "ABX9TyOeAXkMxftDZOBdlo3Fno6W",
      "include_colab_link": true
    },
    "kernelspec": {
      "name": "python3",
      "display_name": "Python 3"
    },
    "language_info": {
      "name": "python"
    },
    "accelerator": "GPU"
  },
  "cells": [
    {
      "cell_type": "markdown",
      "metadata": {
        "id": "view-in-github",
        "colab_type": "text"
      },
      "source": [
        "<a href=\"https://colab.research.google.com/github/rocodoco20/AI1week/blob/main/cuda_psy_1week.ipynb\" target=\"_parent\"><img src=\"https://colab.research.google.com/assets/colab-badge.svg\" alt=\"Open In Colab\"/></a>"
      ]
    },
    {
      "cell_type": "code",
      "execution_count": 3,
      "metadata": {
        "id": "boRVlOdWgXJr"
      },
      "outputs": [],
      "source": [
        "import torch\n",
        "import torchvision\n",
        "import torchvision.transforms as transforms"
      ]
    },
    {
      "cell_type": "code",
      "source": [
        "trainset = torchvision.datasets.MNIST(\n",
        "    root='./data',\n",
        "    train=True,\n",
        "    download=True,\n",
        "    transform=transform\n",
        ")"
      ],
      "metadata": {
        "id": "rW361k2jggCB"
      },
      "execution_count": 31,
      "outputs": []
    },
    {
      "cell_type": "code",
      "source": [
        "from matplotlib import pyplot as plt\n",
        "\n",
        "\n",
        "print(len(trainset))\n",
        "print(trainset[0][0].shape, trainset[0][1])\n",
        "plt.imshow(trainset[0][0][0], cmap='gray')"
      ],
      "metadata": {
        "colab": {
          "base_uri": "https://localhost:8080/",
          "height": 484
        },
        "id": "UAgYtLbt5LIZ",
        "outputId": "9cf6356f-5f5c-4674-bccb-b3e8c2310322"
      },
      "execution_count": 42,
      "outputs": [
        {
          "output_type": "stream",
          "name": "stdout",
          "text": [
            "60000\n",
            "torch.Size([1, 28, 28]) 5\n"
          ]
        },
        {
          "output_type": "execute_result",
          "data": {
            "text/plain": [
              "<matplotlib.image.AxesImage at 0x789ad6e00070>"
            ]
          },
          "metadata": {},
          "execution_count": 42
        },
        {
          "output_type": "display_data",
          "data": {
            "text/plain": [
              "<Figure size 640x480 with 1 Axes>"
            ],
            "image/png": "[encoded data removed]"
          },
          "metadata": {}
        }
      ]
    },
    {
      "cell_type": "markdown",
      "source": [
        "## [MYCODE]train=False 로 설정\n",
        "## Test 데이터"
      ],
      "metadata": {
        "id": "SdVKW6PL4Mum"
      }
    },
    {
      "cell_type": "code",
      "source": [
        "testset = torchvision.datasets.MNIST(\n",
        "    root='./data',\n",
        "    train=False,\n",
        "    download=True,\n",
        "    transform=transform\n",
        ")"
      ],
      "metadata": {
        "id": "F-zlHC_s4Gfx"
      },
      "execution_count": 44,
      "outputs": []
    },
    {
      "cell_type": "code",
      "source": [
        "batch_size = 256\n",
        "\n",
        "trainloader = torch.utils.data.DataLoader(\n",
        "    trainset,\n",
        "    batch_size=batch_size,\n",
        "    shuffle=True\n",
        ")"
      ],
      "metadata": {
        "id": "qPVL88XH5Ebq"
      },
      "execution_count": 45,
      "outputs": []
    },
    {
      "cell_type": "markdown",
      "source": [
        "## [MYCODE]shuffle=False 로 설정"
      ],
      "metadata": {
        "id": "6QoUFend4La-"
      }
    },
    {
      "cell_type": "code",
      "source": [
        "batch_size = 256\n",
        "\n",
        "testDataLoader = torch.utils.data.DataLoader(\n",
        "    testset,\n",
        "    batch_size=batch_size,\n",
        "    shuffle=False\n",
        ")"
      ],
      "metadata": {
        "id": "84O0czwx3vzv"
      },
      "execution_count": 47,
      "outputs": []
    },
    {
      "cell_type": "code",
      "source": [
        "from torch import nn\n",
        "class Model(nn.Module):\n",
        "    def __init__(self, input_dim, n_dim, num_classes):\n",
        "        super().__init__()\n",
        "        self.layer1 = nn.Linear(input_dim, n_dim)\n",
        "        self.layer2 = nn.Linear(n_dim, n_dim)\n",
        "        self.layer3 = nn.Linear(n_dim, num_classes)\n",
        "\n",
        "        self.act = nn.ReLU()\n",
        "\n",
        "    def forward(self, x):\n",
        "        x = torch.flatten(x, start_dim=1)\n",
        "        x = self.act(self.layer1(x))\n",
        "        x = self.act(self.layer2(x))\n",
        "        x = self.layer3(x)\n",
        "        return x"
      ],
      "metadata": {
        "id": "Wxm0NV714cor"
      },
      "execution_count": 48,
      "outputs": []
    },
    {
      "cell_type": "markdown",
      "source": [
        "## nn.CrossEntropyLoss 적용하기"
      ],
      "metadata": {
        "id": "RzbPkYWu1icl"
      }
    },
    {
      "cell_type": "code",
      "source": [
        "from torch.optim import SGD\n",
        "\n",
        "lr = 0.001\n",
        "model = model.to('cuda')\n",
        "criterion = nn.CrossEntropyLoss()\n",
        "optimizer = SGD(model.parameters(), lr=lr)"
      ],
      "metadata": {
        "id": "QX5mfFem1i4b"
      },
      "execution_count": 49,
      "outputs": []
    },
    {
      "cell_type": "code",
      "source": [
        "def accuracy(model, dataloader):\n",
        "    cnt = 0\n",
        "    acc = 0\n",
        "\n",
        "    for data in dataloader:\n",
        "        inputs, labels = data\n",
        "        inputs, labels = inputs.to('cuda'), labels.to('cuda')\n",
        "\n",
        "        preds = model(inputs)\n",
        "        preds = torch.argmax(preds, dim=-1)\n",
        "\n",
        "        cnt += labels.shape[0]\n",
        "        acc += (labels == preds).sum().item()\n",
        "\n",
        "    return acc / cnt"
      ],
      "metadata": {
        "id": "A_IbcVxS22g_"
      },
      "execution_count": 50,
      "outputs": []
    },
    {
      "cell_type": "markdown",
      "source": [
        "## [LOG] 로그확인"
      ],
      "metadata": {
        "id": "QI58YmQyD4gL"
      }
    },
    {
      "cell_type": "code",
      "source": [
        "train_accs, test_accs = [], []\n",
        "n_epochs = 100\n",
        "for epoch in range(n_epochs):\n",
        "    total_loss = 0.0\n",
        "\n",
        "    model.train()\n",
        "    for data in trainloader:\n",
        "        inputs, labels = data\n",
        "        inputs, labels = inputs.to('cuda'), labels.to('cuda')\n",
        "\n",
        "        optimizer.zero_grad()\n",
        "        preds = model(inputs)\n",
        "        loss = criterion(preds, labels)\n",
        "        loss.backward()\n",
        "        optimizer.step()\n",
        "\n",
        "        total_loss += loss.item()\n",
        "\n",
        "    # Epoch 끝난 후 Train/Test 정확도 측정\n",
        "    model.eval()\n",
        "    train_acc = accuracy(model, trainloader)\n",
        "    test_acc = accuracy(model, testDataLoader)\n",
        "    train_accs.append(train_acc)\n",
        "    test_accs.append(test_acc)\n",
        "\n",
        "    print(f\"[LOG] Epoch {epoch} | Loss: {total_loss:.4f} | Train Acc: {train_acc:.4f} | Test Acc: {test_acc:.4f}\")"
      ],
      "metadata": {
        "colab": {
          "base_uri": "https://localhost:8080/"
        },
        "id": "v8NoB1vxD9FU",
        "outputId": "760eb689-ccdd-4110-e6e7-e6473c4d24fe"
      },
      "execution_count": 51,
      "outputs": [
        {
          "output_type": "stream",
          "name": "stdout",
          "text": [
            "[LOG] Epoch 0 | Loss: 539.8370 | Train Acc: 0.1742 | Test Acc: 0.1722\n",
            "[LOG] Epoch 1 | Loss: 535.8885 | Train Acc: 0.2686 | Test Acc: 0.2662\n",
            "[LOG] Epoch 2 | Loss: 531.8305 | Train Acc: 0.3750 | Test Acc: 0.3813\n",
            "[LOG] Epoch 3 | Loss: 527.5375 | Train Acc: 0.4560 | Test Acc: 0.4670\n",
            "[LOG] Epoch 4 | Loss: 522.8873 | Train Acc: 0.5110 | Test Acc: 0.5194\n",
            "[LOG] Epoch 5 | Loss: 517.7544 | Train Acc: 0.5473 | Test Acc: 0.5544\n",
            "[LOG] Epoch 6 | Loss: 512.0059 | Train Acc: 0.5750 | Test Acc: 0.5799\n",
            "[LOG] Epoch 7 | Loss: 505.5003 | Train Acc: 0.5986 | Test Acc: 0.6030\n",
            "[LOG] Epoch 8 | Loss: 498.0902 | Train Acc: 0.6182 | Test Acc: 0.6262\n",
            "[LOG] Epoch 9 | Loss: 489.6201 | Train Acc: 0.6362 | Test Acc: 0.6444\n",
            "[LOG] Epoch 10 | Loss: 479.9344 | Train Acc: 0.6526 | Test Acc: 0.6625\n",
            "[LOG] Epoch 11 | Loss: 468.8916 | Train Acc: 0.6676 | Test Acc: 0.6788\n",
            "[LOG] Epoch 12 | Loss: 456.3751 | Train Acc: 0.6823 | Test Acc: 0.6913\n",
            "[LOG] Epoch 13 | Loss: 442.3115 | Train Acc: 0.6928 | Test Acc: 0.7054\n",
            "[LOG] Epoch 14 | Loss: 426.6894 | Train Acc: 0.7023 | Test Acc: 0.7158\n",
            "[LOG] Epoch 15 | Loss: 409.5875 | Train Acc: 0.7105 | Test Acc: 0.7239\n",
            "[LOG] Epoch 16 | Loss: 391.1979 | Train Acc: 0.7199 | Test Acc: 0.7317\n",
            "[LOG] Epoch 17 | Loss: 371.8390 | Train Acc: 0.7289 | Test Acc: 0.7402\n",
            "[LOG] Epoch 18 | Loss: 351.9442 | Train Acc: 0.7392 | Test Acc: 0.7499\n",
            "[LOG] Epoch 19 | Loss: 332.0164 | Train Acc: 0.7505 | Test Acc: 0.7585\n",
            "[LOG] Epoch 20 | Loss: 312.5633 | Train Acc: 0.7616 | Test Acc: 0.7672\n",
            "[LOG] Epoch 21 | Loss: 294.0255 | Train Acc: 0.7724 | Test Acc: 0.7781\n",
            "[LOG] Epoch 22 | Loss: 276.7203 | Train Acc: 0.7813 | Test Acc: 0.7886\n",
            "[LOG] Epoch 23 | Loss: 260.8254 | Train Acc: 0.7904 | Test Acc: 0.7988\n",
            "[LOG] Epoch 24 | Loss: 246.3935 | Train Acc: 0.7975 | Test Acc: 0.8043\n",
            "[LOG] Epoch 25 | Loss: 233.3857 | Train Acc: 0.8046 | Test Acc: 0.8102\n",
            "[LOG] Epoch 26 | Loss: 221.7086 | Train Acc: 0.8106 | Test Acc: 0.8160\n",
            "[LOG] Epoch 27 | Loss: 211.2416 | Train Acc: 0.8160 | Test Acc: 0.8223\n",
            "[LOG] Epoch 28 | Loss: 201.8565 | Train Acc: 0.8202 | Test Acc: 0.8266\n",
            "[LOG] Epoch 29 | Loss: 193.4275 | Train Acc: 0.8242 | Test Acc: 0.8293\n",
            "[LOG] Epoch 30 | Loss: 185.8385 | Train Acc: 0.8277 | Test Acc: 0.8319\n",
            "[LOG] Epoch 31 | Loss: 178.9853 | Train Acc: 0.8313 | Test Acc: 0.8356\n",
            "[LOG] Epoch 32 | Loss: 172.7766 | Train Acc: 0.8344 | Test Acc: 0.8381\n",
            "[LOG] Epoch 33 | Loss: 167.1331 | Train Acc: 0.8373 | Test Acc: 0.8412\n",
            "[LOG] Epoch 34 | Loss: 161.9866 | Train Acc: 0.8403 | Test Acc: 0.8447\n",
            "[LOG] Epoch 35 | Loss: 157.2780 | Train Acc: 0.8435 | Test Acc: 0.8480\n",
            "[LOG] Epoch 36 | Loss: 152.9564 | Train Acc: 0.8465 | Test Acc: 0.8504\n",
            "[LOG] Epoch 37 | Loss: 148.9784 | Train Acc: 0.8493 | Test Acc: 0.8527\n",
            "[LOG] Epoch 38 | Loss: 145.3065 | Train Acc: 0.8519 | Test Acc: 0.8546\n",
            "[LOG] Epoch 39 | Loss: 141.9079 | Train Acc: 0.8544 | Test Acc: 0.8569\n",
            "[LOG] Epoch 40 | Loss: 138.7542 | Train Acc: 0.8560 | Test Acc: 0.8599\n",
            "[LOG] Epoch 41 | Loss: 135.8210 | Train Acc: 0.8577 | Test Acc: 0.8614\n",
            "[LOG] Epoch 42 | Loss: 133.0866 | Train Acc: 0.8598 | Test Acc: 0.8629\n",
            "[LOG] Epoch 43 | Loss: 130.5323 | Train Acc: 0.8616 | Test Acc: 0.8649\n",
            "[LOG] Epoch 44 | Loss: 128.1414 | Train Acc: 0.8631 | Test Acc: 0.8680\n",
            "[LOG] Epoch 45 | Loss: 125.8993 | Train Acc: 0.8648 | Test Acc: 0.8697\n",
            "[LOG] Epoch 46 | Loss: 123.7927 | Train Acc: 0.8663 | Test Acc: 0.8710\n",
            "[LOG] Epoch 47 | Loss: 121.8102 | Train Acc: 0.8681 | Test Acc: 0.8721\n",
            "[LOG] Epoch 48 | Loss: 119.9415 | Train Acc: 0.8693 | Test Acc: 0.8732\n",
            "[LOG] Epoch 49 | Loss: 118.1773 | Train Acc: 0.8709 | Test Acc: 0.8746\n",
            "[LOG] Epoch 50 | Loss: 116.5095 | Train Acc: 0.8719 | Test Acc: 0.8760\n",
            "[LOG] Epoch 51 | Loss: 114.9305 | Train Acc: 0.8730 | Test Acc: 0.8782\n",
            "[LOG] Epoch 52 | Loss: 113.4336 | Train Acc: 0.8742 | Test Acc: 0.8793\n",
            "[LOG] Epoch 53 | Loss: 112.0127 | Train Acc: 0.8756 | Test Acc: 0.8809\n",
            "[LOG] Epoch 54 | Loss: 110.6622 | Train Acc: 0.8768 | Test Acc: 0.8823\n",
            "[LOG] Epoch 55 | Loss: 109.3770 | Train Acc: 0.8778 | Test Acc: 0.8834\n",
            "[LOG] Epoch 56 | Loss: 108.1528 | Train Acc: 0.8786 | Test Acc: 0.8845\n",
            "[LOG] Epoch 57 | Loss: 106.9852 | Train Acc: 0.8795 | Test Acc: 0.8851\n",
            "[LOG] Epoch 58 | Loss: 105.8706 | Train Acc: 0.8806 | Test Acc: 0.8862\n",
            "[LOG] Epoch 59 | Loss: 104.8053 | Train Acc: 0.8813 | Test Acc: 0.8873\n",
            "[LOG] Epoch 60 | Loss: 103.7862 | Train Acc: 0.8822 | Test Acc: 0.8878\n",
            "[LOG] Epoch 61 | Loss: 102.8101 | Train Acc: 0.8830 | Test Acc: 0.8888\n",
            "[LOG] Epoch 62 | Loss: 101.8745 | Train Acc: 0.8840 | Test Acc: 0.8891\n",
            "[LOG] Epoch 63 | Loss: 100.9768 | Train Acc: 0.8848 | Test Acc: 0.8901\n",
            "[LOG] Epoch 64 | Loss: 100.1147 | Train Acc: 0.8853 | Test Acc: 0.8905\n",
            "[LOG] Epoch 65 | Loss: 99.2861 | Train Acc: 0.8860 | Test Acc: 0.8911\n",
            "[LOG] Epoch 66 | Loss: 98.4889 | Train Acc: 0.8867 | Test Acc: 0.8910\n",
            "[LOG] Epoch 67 | Loss: 97.7213 | Train Acc: 0.8872 | Test Acc: 0.8919\n",
            "[LOG] Epoch 68 | Loss: 96.9816 | Train Acc: 0.8880 | Test Acc: 0.8926\n",
            "[LOG] Epoch 69 | Loss: 96.2682 | Train Acc: 0.8887 | Test Acc: 0.8935\n",
            "[LOG] Epoch 70 | Loss: 95.5798 | Train Acc: 0.8892 | Test Acc: 0.8936\n",
            "[LOG] Epoch 71 | Loss: 94.9148 | Train Acc: 0.8898 | Test Acc: 0.8938\n",
            "[LOG] Epoch 72 | Loss: 94.2721 | Train Acc: 0.8902 | Test Acc: 0.8942\n",
            "[LOG] Epoch 73 | Loss: 93.6503 | Train Acc: 0.8908 | Test Acc: 0.8945\n",
            "[LOG] Epoch 74 | Loss: 93.0484 | Train Acc: 0.8914 | Test Acc: 0.8954\n",
            "[LOG] Epoch 75 | Loss: 92.4653 | Train Acc: 0.8919 | Test Acc: 0.8958\n",
            "[LOG] Epoch 76 | Loss: 91.9001 | Train Acc: 0.8925 | Test Acc: 0.8961\n",
            "[LOG] Epoch 77 | Loss: 91.3519 | Train Acc: 0.8931 | Test Acc: 0.8968\n",
            "[LOG] Epoch 78 | Loss: 90.8197 | Train Acc: 0.8938 | Test Acc: 0.8970\n",
            "[LOG] Epoch 79 | Loss: 90.3027 | Train Acc: 0.8940 | Test Acc: 0.8977\n",
            "[LOG] Epoch 80 | Loss: 89.8003 | Train Acc: 0.8944 | Test Acc: 0.8982\n",
            "[LOG] Epoch 81 | Loss: 89.3117 | Train Acc: 0.8949 | Test Acc: 0.8987\n",
            "[LOG] Epoch 82 | Loss: 88.8363 | Train Acc: 0.8954 | Test Acc: 0.8988\n",
            "[LOG] Epoch 83 | Loss: 88.3734 | Train Acc: 0.8961 | Test Acc: 0.8992\n",
            "[LOG] Epoch 84 | Loss: 87.9225 | Train Acc: 0.8965 | Test Acc: 0.8995\n",
            "[LOG] Epoch 85 | Loss: 87.4830 | Train Acc: 0.8970 | Test Acc: 0.8998\n",
            "[LOG] Epoch 86 | Loss: 87.0545 | Train Acc: 0.8974 | Test Acc: 0.9001\n",
            "[LOG] Epoch 87 | Loss: 86.6363 | Train Acc: 0.8978 | Test Acc: 0.9002\n",
            "[LOG] Epoch 88 | Loss: 86.2281 | Train Acc: 0.8980 | Test Acc: 0.9005\n",
            "[LOG] Epoch 89 | Loss: 85.8294 | Train Acc: 0.8983 | Test Acc: 0.9009\n",
            "[LOG] Epoch 90 | Loss: 85.4400 | Train Acc: 0.8986 | Test Acc: 0.9015\n",
            "[LOG] Epoch 91 | Loss: 85.0592 | Train Acc: 0.8991 | Test Acc: 0.9019\n",
            "[LOG] Epoch 92 | Loss: 84.6868 | Train Acc: 0.8994 | Test Acc: 0.9023\n",
            "[LOG] Epoch 93 | Loss: 84.3225 | Train Acc: 0.8997 | Test Acc: 0.9025\n",
            "[LOG] Epoch 94 | Loss: 83.9657 | Train Acc: 0.9001 | Test Acc: 0.9026\n",
            "[LOG] Epoch 95 | Loss: 83.6164 | Train Acc: 0.9003 | Test Acc: 0.9028\n",
            "[LOG] Epoch 96 | Loss: 83.2742 | Train Acc: 0.9007 | Test Acc: 0.9033\n",
            "[LOG] Epoch 97 | Loss: 82.9387 | Train Acc: 0.9012 | Test Acc: 0.9035\n",
            "[LOG] Epoch 98 | Loss: 82.6098 | Train Acc: 0.9013 | Test Acc: 0.9036\n",
            "[LOG] Epoch 99 | Loss: 82.2873 | Train Acc: 0.9018 | Test Acc: 0.9039\n"
          ]
        }
      ]
    },
    {
      "cell_type": "markdown",
      "source": [
        "## plot"
      ],
      "metadata": {
        "id": "hONGnxAR6TWR"
      }
    },
    {
      "cell_type": "code",
      "source": [
        "import numpy as np\n",
        "\n",
        "def plot_acc(train_accs, test_accs, label1='train', label2='test'):\n",
        "  x = np.arange(len(train_accs))\n",
        "\n",
        "  plt.plot(x, train_accs, label=label1)\n",
        "  plt.plot(x, test_accs, label=label2)\n",
        "  plt.legend()\n",
        "  plt.show()\n",
        "\n",
        "plot_acc(train_accs, test_accs)"
      ],
      "metadata": {
        "colab": {
          "base_uri": "https://localhost:8080/",
          "height": 430
        },
        "id": "rSJw5dAQ3ZS8",
        "outputId": "4febed3e-6c26-4892-c30f-fd8d3a840ab3"
      },
      "execution_count": 52,
      "outputs": [
        {
          "output_type": "display_data",
          "data": {
            "text/plain": [
              "<Figure size 640x480 with 1 Axes>"
            ],
            "image/png": "[encoded data removed]"
          },
          "metadata": {}
        }
      ]
    }
  ]
}