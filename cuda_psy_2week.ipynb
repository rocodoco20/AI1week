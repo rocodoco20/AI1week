{
  "cells": [
    {
      "cell_type": "markdown",
      "metadata": {
        "id": "view-in-github",
        "colab_type": "text"
      },
      "source": [
        "<a href=\"https://colab.research.google.com/github/rocodoco20/AI1week/blob/main/cuda_psy_2week.ipynb\" target=\"_parent\"><img src=\"https://colab.research.google.com/assets/colab-badge.svg\" alt=\"Open In Colab\"/></a>"
      ]
    },
    {
      "cell_type": "markdown",
      "metadata": {
        "id": "FdhTzHYxyBMY"
      },
      "source": [
        "## [MY CODE] 환경 확인용"
      ]
    },
    {
      "cell_type": "code",
      "execution_count": 1,
      "metadata": {
        "colab": {
          "base_uri": "https://localhost:8080/"
        },
        "id": "wwld2CilwINq",
        "outputId": "83044f33-1558-4e71-cf36-8d58a751e908"
      },
      "outputs": [
        {
          "output_type": "stream",
          "name": "stdout",
          "text": [
            "2.5.1+cu121\n",
            "12.1\n",
            "True\n"
          ]
        }
      ],
      "source": [
        "import torch\n",
        "\n",
        "print(torch.__version__)\n",
        "print(torch.version.cuda)  # PyTorch에서 사용하는 CUDA 버전\n",
        "print(torch.cuda.is_available())  # GPU 사용 가능 여부\n"
      ]
    },
    {
      "cell_type": "code",
      "execution_count": 3,
      "metadata": {
        "colab": {
          "base_uri": "https://localhost:8080/"
        },
        "id": "XIsnHuIcNetw",
        "outputId": "50134d44-93b3-45e6-fbe4-d640f314a372"
      },
      "outputs": [
        {
          "output_type": "stream",
          "name": "stdout",
          "text": [
            "Requirement already satisfied: datasets in /usr/local/lib/python3.10/dist-packages (3.2.0)\n",
            "Requirement already satisfied: sacremoses in /usr/local/lib/python3.10/dist-packages (0.1.1)\n",
            "Requirement already satisfied: filelock in /usr/local/lib/python3.10/dist-packages (from datasets) (3.16.1)\n",
            "Requirement already satisfied: numpy>=1.17 in /usr/local/lib/python3.10/dist-packages (from datasets) (1.26.4)\n",
            "Requirement already satisfied: pyarrow>=15.0.0 in /usr/local/lib/python3.10/dist-packages (from datasets) (17.0.0)\n",
            "Requirement already satisfied: dill<0.3.9,>=0.3.0 in /usr/local/lib/python3.10/dist-packages (from datasets) (0.3.8)\n",
            "Requirement already satisfied: pandas in /usr/local/lib/python3.10/dist-packages (from datasets) (2.2.2)\n",
            "Requirement already satisfied: requests>=2.32.2 in /usr/local/lib/python3.10/dist-packages (from datasets) (2.32.3)\n",
            "Requirement already satisfied: tqdm>=4.66.3 in /usr/local/lib/python3.10/dist-packages (from datasets) (4.67.1)\n",
            "Requirement already satisfied: xxhash in /usr/local/lib/python3.10/dist-packages (from datasets) (3.5.0)\n",
            "Requirement already satisfied: multiprocess<0.70.17 in /usr/local/lib/python3.10/dist-packages (from datasets) (0.70.16)\n",
            "Requirement already satisfied: fsspec<=2024.9.0,>=2023.1.0 in /usr/local/lib/python3.10/dist-packages (from fsspec[http]<=2024.9.0,>=2023.1.0->datasets) (2024.9.0)\n",
            "Requirement already satisfied: aiohttp in /usr/local/lib/python3.10/dist-packages (from datasets) (3.11.10)\n",
            "Requirement already satisfied: huggingface-hub>=0.23.0 in /usr/local/lib/python3.10/dist-packages (from datasets) (0.27.0)\n",
            "Requirement already satisfied: packaging in /usr/local/lib/python3.10/dist-packages (from datasets) (24.2)\n",
            "Requirement already satisfied: pyyaml>=5.1 in /usr/local/lib/python3.10/dist-packages (from datasets) (6.0.2)\n",
            "Requirement already satisfied: regex in /usr/local/lib/python3.10/dist-packages (from sacremoses) (2024.11.6)\n",
            "Requirement already satisfied: click in /usr/local/lib/python3.10/dist-packages (from sacremoses) (8.1.7)\n",
            "Requirement already satisfied: joblib in /usr/local/lib/python3.10/dist-packages (from sacremoses) (1.4.2)\n",
            "Requirement already satisfied: aiohappyeyeballs>=2.3.0 in /usr/local/lib/python3.10/dist-packages (from aiohttp->datasets) (2.4.4)\n",
            "Requirement already satisfied: aiosignal>=1.1.2 in /usr/local/lib/python3.10/dist-packages (from aiohttp->datasets) (1.3.2)\n",
            "Requirement already satisfied: async-timeout<6.0,>=4.0 in /usr/local/lib/python3.10/dist-packages (from aiohttp->datasets) (4.0.3)\n",
            "Requirement already satisfied: attrs>=17.3.0 in /usr/local/lib/python3.10/dist-packages (from aiohttp->datasets) (24.3.0)\n",
            "Requirement already satisfied: frozenlist>=1.1.1 in /usr/local/lib/python3.10/dist-packages (from aiohttp->datasets) (1.5.0)\n",
            "Requirement already satisfied: multidict<7.0,>=4.5 in /usr/local/lib/python3.10/dist-packages (from aiohttp->datasets) (6.1.0)\n",
            "Requirement already satisfied: propcache>=0.2.0 in /usr/local/lib/python3.10/dist-packages (from aiohttp->datasets) (0.2.1)\n",
            "Requirement already satisfied: yarl<2.0,>=1.17.0 in /usr/local/lib/python3.10/dist-packages (from aiohttp->datasets) (1.18.3)\n",
            "Requirement already satisfied: typing-extensions>=3.7.4.3 in /usr/local/lib/python3.10/dist-packages (from huggingface-hub>=0.23.0->datasets) (4.12.2)\n",
            "Requirement already satisfied: charset-normalizer<4,>=2 in /usr/local/lib/python3.10/dist-packages (from requests>=2.32.2->datasets) (3.4.0)\n",
            "Requirement already satisfied: idna<4,>=2.5 in /usr/local/lib/python3.10/dist-packages (from requests>=2.32.2->datasets) (3.10)\n",
            "Requirement already satisfied: urllib3<3,>=1.21.1 in /usr/local/lib/python3.10/dist-packages (from requests>=2.32.2->datasets) (2.2.3)\n",
            "Requirement already satisfied: certifi>=2017.4.17 in /usr/local/lib/python3.10/dist-packages (from requests>=2.32.2->datasets) (2024.12.14)\n",
            "Requirement already satisfied: python-dateutil>=2.8.2 in /usr/local/lib/python3.10/dist-packages (from pandas->datasets) (2.8.2)\n",
            "Requirement already satisfied: pytz>=2020.1 in /usr/local/lib/python3.10/dist-packages (from pandas->datasets) (2024.2)\n",
            "Requirement already satisfied: tzdata>=2022.7 in /usr/local/lib/python3.10/dist-packages (from pandas->datasets) (2024.2)\n",
            "Requirement already satisfied: six>=1.5 in /usr/local/lib/python3.10/dist-packages (from python-dateutil>=2.8.2->pandas->datasets) (1.17.0)\n"
          ]
        }
      ],
      "source": [
        "!pip install datasets sacremoses"
      ]
    },
    {
      "cell_type": "code",
      "execution_count": 18,
      "metadata": {
        "colab": {
          "base_uri": "https://localhost:8080/"
        },
        "id": "gM5iN5eQN29P",
        "outputId": "9731e46d-6b20-41a8-cbf6-4d4bebfaa117"
      },
      "outputs": [
        {
          "output_type": "stream",
          "name": "stderr",
          "text": [
            "Using cache found in /root/.cache/torch/hub/huggingface_pytorch-transformers_main\n"
          ]
        }
      ],
      "source": [
        "import torch\n",
        "from datasets import load_dataset\n",
        "from torch.utils.data import DataLoader\n",
        "from torch.nn.utils.rnn import pad_sequence\n",
        "from transformers import BertTokenizerFast\n",
        "from tokenizers import (\n",
        "    decoders,\n",
        "    models,\n",
        "    normalizers,\n",
        "    pre_tokenizers,\n",
        "    processors,\n",
        "    trainers,\n",
        "    Tokenizer,\n",
        ")\n",
        "\n",
        "\n",
        "ds = load_dataset(\"stanfordnlp/imdb\")\n",
        "tokenizer = torch.hub.load('huggingface/pytorch-transformers', 'tokenizer', 'bert-base-uncased')\n",
        "\n",
        "\n",
        "\n",
        "\n",
        "def collate_fn(batch):\n",
        "    max_len = 400  # 최대 시퀀스 길이\n",
        "    texts, labels = [], []\n",
        "\n",
        "    for row in batch:\n",
        "        # 텍스트에 대한 토큰화 및 패딩\n",
        "        encoding = tokenizer(row['text'], truncation=True, max_length=max_len, padding='max_length')\n",
        "        texts.append(torch.LongTensor(encoding['input_ids']))  # 패딩된 input_ids\n",
        "        labels.append(row['label'])  # 텍스트의 실제 클래스 레이블을 사용\n",
        "\n",
        "    # 텍스트 배치 생성\n",
        "    texts = torch.stack(texts, dim=0)  # batch_size x max_len\n",
        "\n",
        "    # 레이블은 단순히 텍스트의 클래스 레이블\n",
        "    labels = torch.LongTensor(labels)  # batch_size 크기의 레이블\n",
        "\n",
        "    return texts, labels\n",
        "\n",
        "# 데이터 로더 정의\n",
        "train_loader = DataLoader(\n",
        "    ds['train'], batch_size=64, shuffle=True, collate_fn=collate_fn\n",
        ")\n",
        "test_loader = DataLoader(\n",
        "    ds['test'], batch_size=64, shuffle=False, collate_fn=collate_fn\n",
        ")"
      ]
    },
    {
      "cell_type": "markdown",
      "source": [
        "## [MY CODE] labels.append(row['label'])  텍스트의 실제 클래스 레이블을 사용 안하니깐 -값이 나타나서 학습이 되질 않았음\n"
      ],
      "metadata": {
        "id": "1g5kI6d9n3Fy"
      }
    },
    {
      "cell_type": "code",
      "execution_count": 19,
      "metadata": {
        "id": "vWNBB8j5rvt0"
      },
      "outputs": [],
      "source": [
        "from torch import nn\n",
        "from math import sqrt\n",
        "\n",
        "\n",
        "class SelfAttention(nn.Module):\n",
        "  def __init__(self, input_dim, d_model):\n",
        "    super().__init__()\n",
        "\n",
        "    self.input_dim = input_dim\n",
        "    self.d_model = d_model\n",
        "\n",
        "    self.wq = nn.Linear(input_dim, d_model)\n",
        "    self.wk = nn.Linear(input_dim, d_model)\n",
        "    self.wv = nn.Linear(input_dim, d_model)\n",
        "    self.dense = nn.Linear(d_model, d_model)\n",
        "\n",
        "    self.softmax = nn.Softmax(dim=-1)\n",
        "\n",
        "  def forward(self, x, mask):\n",
        "    q, k, v = self.wq(x), self.wk(x), self.wv(x)\n",
        "    score = torch.matmul(q, k.transpose(-1, -2)) # (B, S, D) * (B, D, S) = (B, S, S)\n",
        "    score = score / sqrt(self.d_model)\n",
        "\n",
        "    if mask is not None:\n",
        "      score = score + (mask * -1e9)\n",
        "\n",
        "    score = self.softmax(score)\n",
        "    result = torch.matmul(score, v)\n",
        "    result = self.dense(result)\n",
        "\n",
        "    return result"
      ]
    },
    {
      "cell_type": "code",
      "execution_count": 20,
      "metadata": {
        "id": "QlyS4yForxOm"
      },
      "outputs": [],
      "source": [
        "class TransformerLayer(nn.Module):\n",
        "  def __init__(self, input_dim, d_model, dff):\n",
        "    super().__init__()\n",
        "\n",
        "    self.input_dim = input_dim\n",
        "    self.d_model = d_model\n",
        "    self.dff = dff\n",
        "\n",
        "    self.sa = SelfAttention(input_dim, d_model)\n",
        "    self.ffn = nn.Sequential(\n",
        "      nn.Linear(d_model, dff),\n",
        "      nn.ReLU(),\n",
        "      nn.Linear(dff, d_model)\n",
        "    )\n",
        "\n",
        "  def forward(self, x, mask):\n",
        "    x = self.sa(x, mask)\n",
        "    x = self.ffn(x)\n",
        "\n",
        "    return x"
      ]
    },
    {
      "cell_type": "code",
      "execution_count": 21,
      "metadata": {
        "colab": {
          "base_uri": "https://localhost:8080/"
        },
        "id": "b8oC4O66rzms",
        "outputId": "2c07c57e-a833-4cfa-e3f4-68dbf9a95572"
      },
      "outputs": [
        {
          "output_type": "stream",
          "name": "stdout",
          "text": [
            "torch.Size([1, 400, 256])\n"
          ]
        }
      ],
      "source": [
        "import numpy as np\n",
        "\n",
        "\n",
        "def get_angles(pos, i, d_model):\n",
        "    angle_rates = 1 / np.power(10000, (2 * (i // 2)) / np.float32(d_model))\n",
        "    return pos * angle_rates\n",
        "\n",
        "def positional_encoding(position, d_model):\n",
        "    angle_rads = get_angles(np.arange(position)[:, None], np.arange(d_model)[None, :], d_model)\n",
        "    angle_rads[:, 0::2] = np.sin(angle_rads[:, 0::2])\n",
        "    angle_rads[:, 1::2] = np.cos(angle_rads[:, 1::2])\n",
        "    pos_encoding = angle_rads[None, ...]\n",
        "\n",
        "    return torch.FloatTensor(pos_encoding)\n",
        "\n",
        "\n",
        "max_len = 400\n",
        "print(positional_encoding(max_len, 256).shape)"
      ]
    },
    {
      "cell_type": "code",
      "execution_count": 22,
      "metadata": {
        "id": "izEog6Yor1Lv"
      },
      "outputs": [],
      "source": [
        "from math import sqrt\n",
        "\n",
        "# 모델 정의\n",
        "class TextClassifier(nn.Module):\n",
        "    def __init__(self, vocab_size, d_model, n_layers, dff):\n",
        "        super().__init__()\n",
        "\n",
        "        self.vocab_size = vocab_size\n",
        "        self.d_model = d_model\n",
        "        self.n_layers = n_layers\n",
        "        self.dff = dff\n",
        "\n",
        "        # 임베딩 및 포지셔널 인코딩\n",
        "        self.embedding = nn.Embedding(vocab_size, d_model)\n",
        "        self.pos_encoding = nn.parameter.Parameter(\n",
        "            positional_encoding(512, d_model), requires_grad=False\n",
        "        )\n",
        "\n",
        "        # Transformer 레이어\n",
        "        self.layers = nn.ModuleList([TransformerLayer(d_model, d_model, dff) for _ in range(n_layers)])\n",
        "\n",
        "        # 분류를 위한 최종 선형 레이어 (이진 분류로 1로 설정)\n",
        "        self.classification = nn.Linear(d_model, 1)  # 이진 분류이므로 출력 차원 1로 설정\n",
        "\n",
        "    def forward(self, x):\n",
        "        mask = (x == tokenizer.pad_token_id)\n",
        "        mask = mask[:, None, :]\n",
        "        seq_len = x.shape[1]\n",
        "\n",
        "        x = self.embedding(x)\n",
        "        x = x * sqrt(self.d_model)  # 스케일링(scaling) 추가\n",
        "        x = x + self.pos_encoding[:, :seq_len]\n",
        "\n",
        "        for layer in self.layers:\n",
        "            x = layer(x, mask)\n",
        "\n",
        "        x = x[:, 0]  # [batch_size, d_model] 형태로 첫 번째 token만 추출\n",
        "        x = self.classification(x)  # 출력 차원 1로\n",
        "\n",
        "        # 이진 분류에서는 sigmoid를 사용하여 확률 값으로 변환\n",
        "        x = torch.sigmoid(x)\n",
        "\n",
        "        return x\n",
        "\n",
        "# 모델 정의\n",
        "model = TextClassifier(len(tokenizer), 32, 2, 32)"
      ]
    },
    {
      "cell_type": "code",
      "execution_count": 23,
      "metadata": {
        "id": "XeeiMRhtr3TG"
      },
      "outputs": [],
      "source": [
        "from torch.optim import Adam\n",
        "\n",
        "lr = 0.001\n",
        "model = model.to('cuda')\n",
        "loss_fn = nn.BCEWithLogitsLoss() # 손실 함수 정의\n",
        "\n",
        "optimizer = Adam(model.parameters(), lr=lr)"
      ]
    },
    {
      "cell_type": "code",
      "execution_count": 24,
      "metadata": {
        "id": "dYLgj1kSr5CL"
      },
      "outputs": [],
      "source": [
        "import numpy as np\n",
        "import matplotlib.pyplot as plt\n",
        "\n",
        "\n",
        "def accuracy(model, dataloader):\n",
        "  cnt = 0\n",
        "  acc = 0\n",
        "\n",
        "  for data in dataloader:\n",
        "    inputs, labels = data\n",
        "    inputs, labels = inputs.to('cuda'), labels.to('cuda')\n",
        "\n",
        "    preds = model(inputs)\n",
        "    # preds = torch.argmax(preds, dim=-1)\n",
        "    preds = (preds > 0).long()[..., 0]\n",
        "\n",
        "    cnt += labels.shape[0]\n",
        "    acc += (labels == preds).sum().item()\n",
        "\n",
        "  return acc / cnt"
      ]
    },
    {
      "cell_type": "code",
      "execution_count": 25,
      "metadata": {
        "colab": {
          "base_uri": "https://localhost:8080/"
        },
        "id": "06h3C_46r6W5",
        "outputId": "14db44a0-fee6-473a-d8d8-e5630af05647"
      },
      "outputs": [
        {
          "output_type": "stream",
          "name": "stdout",
          "text": [
            "Epoch   0 | Train Loss: 264.32551741600037\n",
            "=========> Train acc: 0.500 | Test acc: 0.500\n",
            "Epoch   1 | Train Loss: 250.57216846942902\n",
            "=========> Train acc: 0.500 | Test acc: 0.500\n",
            "Epoch   2 | Train Loss: 243.1417135000229\n",
            "=========> Train acc: 0.500 | Test acc: 0.500\n",
            "Epoch   3 | Train Loss: 238.0319870710373\n",
            "=========> Train acc: 0.500 | Test acc: 0.500\n",
            "Epoch   4 | Train Loss: 234.6935264468193\n",
            "=========> Train acc: 0.526 | Test acc: 0.526\n",
            "Epoch   5 | Train Loss: 231.8121556341648\n",
            "=========> Train acc: 0.556 | Test acc: 0.557\n",
            "Epoch   6 | Train Loss: 230.11310628056526\n",
            "=========> Train acc: 0.543 | Test acc: 0.542\n",
            "Epoch   7 | Train Loss: 228.99619841575623\n",
            "=========> Train acc: 0.524 | Test acc: 0.526\n",
            "Epoch   8 | Train Loss: 226.36965703964233\n",
            "=========> Train acc: 0.516 | Test acc: 0.517\n",
            "Epoch   9 | Train Loss: 224.63925096392632\n",
            "=========> Train acc: 0.525 | Test acc: 0.524\n",
            "Epoch  10 | Train Loss: 224.11415445804596\n",
            "=========> Train acc: 0.548 | Test acc: 0.549\n",
            "Epoch  11 | Train Loss: 223.91627249121666\n",
            "=========> Train acc: 0.590 | Test acc: 0.587\n",
            "Epoch  12 | Train Loss: 223.67104989290237\n",
            "=========> Train acc: 0.624 | Test acc: 0.619\n",
            "Epoch  13 | Train Loss: 222.15818437933922\n",
            "=========> Train acc: 0.544 | Test acc: 0.547\n",
            "Epoch  14 | Train Loss: 220.54613754153252\n",
            "=========> Train acc: 0.527 | Test acc: 0.527\n",
            "Epoch  15 | Train Loss: 219.7627903521061\n",
            "=========> Train acc: 0.603 | Test acc: 0.602\n",
            "Epoch  16 | Train Loss: 220.77302050590515\n",
            "=========> Train acc: 0.615 | Test acc: 0.610\n",
            "Epoch  17 | Train Loss: 219.03324076533318\n",
            "=========> Train acc: 0.658 | Test acc: 0.652\n",
            "Epoch  18 | Train Loss: 218.94696214795113\n",
            "=========> Train acc: 0.592 | Test acc: 0.592\n",
            "Epoch  19 | Train Loss: 217.8144171833992\n",
            "=========> Train acc: 0.721 | Test acc: 0.705\n",
            "Epoch  20 | Train Loss: 217.35625639557838\n",
            "=========> Train acc: 0.722 | Test acc: 0.707\n",
            "Epoch  21 | Train Loss: 218.51937299966812\n",
            "=========> Train acc: 0.623 | Test acc: 0.621\n",
            "Epoch  22 | Train Loss: 216.86018565297127\n",
            "=========> Train acc: 0.711 | Test acc: 0.699\n",
            "Epoch  23 | Train Loss: 218.95697045326233\n",
            "=========> Train acc: 0.691 | Test acc: 0.680\n",
            "Epoch  24 | Train Loss: 216.76356646418571\n",
            "=========> Train acc: 0.664 | Test acc: 0.658\n",
            "Epoch  25 | Train Loss: 215.53987592458725\n",
            "=========> Train acc: 0.735 | Test acc: 0.717\n",
            "Epoch  26 | Train Loss: 215.20380061864853\n",
            "=========> Train acc: 0.643 | Test acc: 0.635\n",
            "Epoch  27 | Train Loss: 214.6262989640236\n",
            "=========> Train acc: 0.678 | Test acc: 0.668\n",
            "Epoch  28 | Train Loss: 216.9698362648487\n",
            "=========> Train acc: 0.821 | Test acc: 0.771\n",
            "Epoch  29 | Train Loss: 216.5735740363598\n",
            "=========> Train acc: 0.733 | Test acc: 0.714\n",
            "Epoch  30 | Train Loss: 216.20645275712013\n",
            "=========> Train acc: 0.660 | Test acc: 0.653\n",
            "Epoch  31 | Train Loss: 215.42259740829468\n",
            "=========> Train acc: 0.696 | Test acc: 0.681\n",
            "Epoch  32 | Train Loss: 215.45906129479408\n",
            "=========> Train acc: 0.797 | Test acc: 0.758\n",
            "Epoch  33 | Train Loss: 215.55380928516388\n",
            "=========> Train acc: 0.628 | Test acc: 0.623\n",
            "Epoch  34 | Train Loss: 214.6266868710518\n",
            "=========> Train acc: 0.643 | Test acc: 0.635\n",
            "Epoch  35 | Train Loss: 213.13611048460007\n",
            "=========> Train acc: 0.759 | Test acc: 0.730\n",
            "Epoch  36 | Train Loss: 214.15403398871422\n",
            "=========> Train acc: 0.753 | Test acc: 0.728\n",
            "Epoch  37 | Train Loss: 214.19820895791054\n",
            "=========> Train acc: 0.676 | Test acc: 0.665\n",
            "Epoch  38 | Train Loss: 215.55964037775993\n",
            "=========> Train acc: 0.737 | Test acc: 0.713\n",
            "Epoch  39 | Train Loss: 216.14949595928192\n",
            "=========> Train acc: 0.692 | Test acc: 0.682\n",
            "Epoch  40 | Train Loss: 214.23661664128304\n",
            "=========> Train acc: 0.621 | Test acc: 0.617\n",
            "Epoch  41 | Train Loss: 213.71625065803528\n",
            "=========> Train acc: 0.595 | Test acc: 0.590\n",
            "Epoch  42 | Train Loss: 212.25855594873428\n",
            "=========> Train acc: 0.658 | Test acc: 0.648\n",
            "Epoch  43 | Train Loss: 212.5270134806633\n",
            "=========> Train acc: 0.723 | Test acc: 0.705\n",
            "Epoch  44 | Train Loss: 212.74225360155106\n",
            "=========> Train acc: 0.733 | Test acc: 0.712\n",
            "Epoch  45 | Train Loss: 213.24682798981667\n",
            "=========> Train acc: 0.721 | Test acc: 0.702\n",
            "Epoch  46 | Train Loss: 213.4649793803692\n",
            "=========> Train acc: 0.742 | Test acc: 0.717\n",
            "Epoch  47 | Train Loss: 215.620531052351\n",
            "=========> Train acc: 0.668 | Test acc: 0.656\n",
            "Epoch  48 | Train Loss: 213.0496896803379\n",
            "=========> Train acc: 0.621 | Test acc: 0.614\n",
            "Epoch  49 | Train Loss: 211.86974543333054\n",
            "=========> Train acc: 0.685 | Test acc: 0.674\n"
          ]
        }
      ],
      "source": [
        "train_accs, test_accs = [], []  # 학습 정확도 리스트 # 테스트 정확도 리스트\n",
        "\n",
        "n_epochs = 50\n",
        "\n",
        "for epoch in range(n_epochs):\n",
        "    total_loss = 0.\n",
        "    model.train()\n",
        "    for data in train_loader:\n",
        "        model.zero_grad()\n",
        "        inputs, labels = data\n",
        "        inputs, labels = inputs.to('cuda'), labels.to('cuda').float()\n",
        "\n",
        "        preds = model(inputs)[..., 0]\n",
        "        loss = loss_fn(preds, labels)\n",
        "        loss.backward()\n",
        "\n",
        "        optimizer.step()\n",
        "\n",
        "        total_loss += loss.item()\n",
        "\n",
        "    print(f\"Epoch {epoch:3d} | Train Loss: {total_loss}\")\n",
        "\n",
        "    with torch.no_grad():\n",
        "        model.eval()\n",
        "\n",
        "        # 훈련 데이터와 테스트 데이터에 대한 정확도 계산\n",
        "        train_acc = accuracy(model, train_loader)\n",
        "        test_acc = accuracy(model, test_loader)\n",
        "\n",
        "        # 정확도를 리스트에 추가\n",
        "        train_accs.append(train_acc)\n",
        "        test_accs.append(test_acc)\n",
        "\n",
        "        # 각 에포크마다 출력\n",
        "        print(f\"=========> Train acc: {train_acc:.3f} | Test acc: {test_acc:.3f}\")"
      ]
    },
    {
      "cell_type": "markdown",
      "metadata": {
        "id": "bEy4LS9uxaph"
      },
      "source": []
    },
    {
      "cell_type": "markdown",
      "metadata": {
        "id": "6SNYIOCY1_XK"
      },
      "source": [
        "## [LOG] 결과 출력"
      ]
    },
    {
      "cell_type": "code",
      "execution_count": 26,
      "metadata": {
        "colab": {
          "base_uri": "https://localhost:8080/",
          "height": 449
        },
        "id": "hraoyhjNxbJP",
        "outputId": "497417d2-4224-404a-cccc-65ca5d244147"
      },
      "outputs": [
        {
          "output_type": "display_data",
          "data": {
            "text/plain": [
              "<Figure size 640x480 with 1 Axes>"
            ],
            "image/png": "[encoded data removed]"
          },
          "metadata": {}
        }
      ],
      "source": [
        "import numpy as np\n",
        "import matplotlib.pyplot as plt\n",
        "\n",
        "def plot_acc(train_acc, test_acc, label1='train', label2='test'):\n",
        "    x = np.arange(len(train_acc))  # 정확도 리스트의 길이를 구합니다.\n",
        "    plt.plot(x, train_acc, label=label1)\n",
        "    plt.plot(x, test_acc, label=label2)\n",
        "    plt.xlabel('Epoch')\n",
        "    plt.ylabel('Accuracy')\n",
        "    plt.legend()\n",
        "    plt.show()\n",
        "\n",
        "# 학습이 끝난 후, train_accs와 test_accs를 plot_acc 함수에 전달\n",
        "plot_acc(train_accs, test_accs)"
      ]
    }
  ],
  "metadata": {
    "accelerator": "GPU",
    "colab": {
      "gpuType": "T4",
      "provenance": [],
      "include_colab_link": true
    },
    "kernelspec": {
      "display_name": "Python 3",
      "name": "python3"
    },
    "language_info": {
      "name": "python"
    }
  },
  "nbformat": 4,
  "nbformat_minor": 0
}